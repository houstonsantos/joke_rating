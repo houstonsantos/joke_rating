{
 "cells": [
  {
   "cell_type": "code",
   "execution_count": 2,
   "metadata": {},
   "outputs": [],
   "source": [
    "import pandas as pd\n",
    "import numpy as np\n",
    "import matplotlib.pyplot as plt\n",
    "\n",
    "from tqdm import trange\n",
    "from skopt.space import Real, Integer\n",
    "from skopt.utils import use_named_args\n",
    "from skopt.plots import plot_convergence\n",
    "from skopt import gp_minimize, forest_minimize, dummy_minimize\n",
    "from statistics import stdev, variance, mean\n",
    "from fastai.tabular.all import *\n",
    "from fastai.collab import CollabDataLoaders, collab_learner\n",
    "from surprise import Reader, Dataset, accuracy, SVD\n",
    "from surprise.model_selection import KFold, train_test_split, cross_validate\n",
    "from sklearn.metrics import mean_squared_error\n",
    "from sklearn.preprocessing import StandardScaler\n",
    "#from sklearn.model_selection import train_test_split\n",
    "\n",
    "warnings.filterwarnings(\"ignore\")\n",
    "pd.set_option(\"display.max_columns\", None)"
   ]
  },
  {
   "cell_type": "markdown",
   "metadata": {},
   "source": [
    "## Exploratory Analysis"
   ]
  },
  {
   "cell_type": "code",
   "execution_count": 3,
   "metadata": {},
   "outputs": [],
   "source": [
    "# Import of taining and test data\n",
    "train = pd.read_csv(\"dados/train.csv\")\n",
    "test = pd. read_csv(\"dados/test.csv\")\n",
    "jokes = pd.read_csv(\"dados/jokes.csv\")"
   ]
  },
  {
   "cell_type": "code",
   "execution_count": 4,
   "metadata": {},
   "outputs": [
    {
     "data": {
      "text/html": [
       "<div>\n",
       "<style scoped>\n",
       "    .dataframe tbody tr th:only-of-type {\n",
       "        vertical-align: middle;\n",
       "    }\n",
       "\n",
       "    .dataframe tbody tr th {\n",
       "        vertical-align: top;\n",
       "    }\n",
       "\n",
       "    .dataframe thead th {\n",
       "        text-align: right;\n",
       "    }\n",
       "</style>\n",
       "<table border=\"1\" class=\"dataframe\">\n",
       "  <thead>\n",
       "    <tr style=\"text-align: right;\">\n",
       "      <th></th>\n",
       "      <th>id</th>\n",
       "      <th>user_id</th>\n",
       "      <th>joke_id</th>\n",
       "      <th>Rating</th>\n",
       "    </tr>\n",
       "  </thead>\n",
       "  <tbody>\n",
       "    <tr>\n",
       "      <th>0</th>\n",
       "      <td>31030_110</td>\n",
       "      <td>31030</td>\n",
       "      <td>110</td>\n",
       "      <td>2.750</td>\n",
       "    </tr>\n",
       "    <tr>\n",
       "      <th>1</th>\n",
       "      <td>16144_109</td>\n",
       "      <td>16144</td>\n",
       "      <td>109</td>\n",
       "      <td>5.094</td>\n",
       "    </tr>\n",
       "    <tr>\n",
       "      <th>2</th>\n",
       "      <td>23098_6</td>\n",
       "      <td>23098</td>\n",
       "      <td>6</td>\n",
       "      <td>-6.438</td>\n",
       "    </tr>\n",
       "    <tr>\n",
       "      <th>3</th>\n",
       "      <td>14273_86</td>\n",
       "      <td>14273</td>\n",
       "      <td>86</td>\n",
       "      <td>4.406</td>\n",
       "    </tr>\n",
       "    <tr>\n",
       "      <th>4</th>\n",
       "      <td>18419_134</td>\n",
       "      <td>18419</td>\n",
       "      <td>134</td>\n",
       "      <td>9.375</td>\n",
       "    </tr>\n",
       "    <tr>\n",
       "      <th>...</th>\n",
       "      <td>...</td>\n",
       "      <td>...</td>\n",
       "      <td>...</td>\n",
       "      <td>...</td>\n",
       "    </tr>\n",
       "    <tr>\n",
       "      <th>1092054</th>\n",
       "      <td>9517_132</td>\n",
       "      <td>9517</td>\n",
       "      <td>132</td>\n",
       "      <td>3.156</td>\n",
       "    </tr>\n",
       "    <tr>\n",
       "      <th>1092055</th>\n",
       "      <td>27767_118</td>\n",
       "      <td>27767</td>\n",
       "      <td>118</td>\n",
       "      <td>-1.594</td>\n",
       "    </tr>\n",
       "    <tr>\n",
       "      <th>1092056</th>\n",
       "      <td>10580_81</td>\n",
       "      <td>10580</td>\n",
       "      <td>81</td>\n",
       "      <td>2.000</td>\n",
       "    </tr>\n",
       "    <tr>\n",
       "      <th>1092057</th>\n",
       "      <td>31007_119</td>\n",
       "      <td>31007</td>\n",
       "      <td>119</td>\n",
       "      <td>8.906</td>\n",
       "    </tr>\n",
       "    <tr>\n",
       "      <th>1092058</th>\n",
       "      <td>8420_98</td>\n",
       "      <td>8420</td>\n",
       "      <td>98</td>\n",
       "      <td>-3.344</td>\n",
       "    </tr>\n",
       "  </tbody>\n",
       "</table>\n",
       "<p>1092059 rows × 4 columns</p>\n",
       "</div>"
      ],
      "text/plain": [
       "                id  user_id  joke_id  Rating\n",
       "0        31030_110    31030      110   2.750\n",
       "1        16144_109    16144      109   5.094\n",
       "2          23098_6    23098        6  -6.438\n",
       "3         14273_86    14273       86   4.406\n",
       "4        18419_134    18419      134   9.375\n",
       "...            ...      ...      ...     ...\n",
       "1092054   9517_132     9517      132   3.156\n",
       "1092055  27767_118    27767      118  -1.594\n",
       "1092056   10580_81    10580       81   2.000\n",
       "1092057  31007_119    31007      119   8.906\n",
       "1092058    8420_98     8420       98  -3.344\n",
       "\n",
       "[1092059 rows x 4 columns]"
      ]
     },
     "execution_count": 4,
     "metadata": {},
     "output_type": "execute_result"
    }
   ],
   "source": [
    "# Dataset de treino\n",
    "train"
   ]
  },
  {
   "cell_type": "code",
   "execution_count": 5,
   "metadata": {},
   "outputs": [
    {
     "data": {
      "text/html": [
       "<div>\n",
       "<style scoped>\n",
       "    .dataframe tbody tr th:only-of-type {\n",
       "        vertical-align: middle;\n",
       "    }\n",
       "\n",
       "    .dataframe tbody tr th {\n",
       "        vertical-align: top;\n",
       "    }\n",
       "\n",
       "    .dataframe thead th {\n",
       "        text-align: right;\n",
       "    }\n",
       "</style>\n",
       "<table border=\"1\" class=\"dataframe\">\n",
       "  <thead>\n",
       "    <tr style=\"text-align: right;\">\n",
       "      <th></th>\n",
       "      <th>id</th>\n",
       "      <th>user_id</th>\n",
       "      <th>joke_id</th>\n",
       "    </tr>\n",
       "  </thead>\n",
       "  <tbody>\n",
       "    <tr>\n",
       "      <th>0</th>\n",
       "      <td>6194_11</td>\n",
       "      <td>6194</td>\n",
       "      <td>11</td>\n",
       "    </tr>\n",
       "    <tr>\n",
       "      <th>1</th>\n",
       "      <td>19356_3</td>\n",
       "      <td>19356</td>\n",
       "      <td>3</td>\n",
       "    </tr>\n",
       "    <tr>\n",
       "      <th>2</th>\n",
       "      <td>23426_79</td>\n",
       "      <td>23426</td>\n",
       "      <td>79</td>\n",
       "    </tr>\n",
       "    <tr>\n",
       "      <th>3</th>\n",
       "      <td>40030_3</td>\n",
       "      <td>40030</td>\n",
       "      <td>3</td>\n",
       "    </tr>\n",
       "    <tr>\n",
       "      <th>4</th>\n",
       "      <td>19806_115</td>\n",
       "      <td>19806</td>\n",
       "      <td>115</td>\n",
       "    </tr>\n",
       "    <tr>\n",
       "      <th>...</th>\n",
       "      <td>...</td>\n",
       "      <td>...</td>\n",
       "      <td>...</td>\n",
       "    </tr>\n",
       "    <tr>\n",
       "      <th>537875</th>\n",
       "      <td>14333_74</td>\n",
       "      <td>14333</td>\n",
       "      <td>74</td>\n",
       "    </tr>\n",
       "    <tr>\n",
       "      <th>537876</th>\n",
       "      <td>25245_16</td>\n",
       "      <td>25245</td>\n",
       "      <td>16</td>\n",
       "    </tr>\n",
       "    <tr>\n",
       "      <th>537877</th>\n",
       "      <td>4082_9</td>\n",
       "      <td>4082</td>\n",
       "      <td>9</td>\n",
       "    </tr>\n",
       "    <tr>\n",
       "      <th>537878</th>\n",
       "      <td>19638_128</td>\n",
       "      <td>19638</td>\n",
       "      <td>128</td>\n",
       "    </tr>\n",
       "    <tr>\n",
       "      <th>537879</th>\n",
       "      <td>40665_26</td>\n",
       "      <td>40665</td>\n",
       "      <td>26</td>\n",
       "    </tr>\n",
       "  </tbody>\n",
       "</table>\n",
       "<p>537880 rows × 3 columns</p>\n",
       "</div>"
      ],
      "text/plain": [
       "               id  user_id  joke_id\n",
       "0         6194_11     6194       11\n",
       "1         19356_3    19356        3\n",
       "2        23426_79    23426       79\n",
       "3         40030_3    40030        3\n",
       "4       19806_115    19806      115\n",
       "...           ...      ...      ...\n",
       "537875   14333_74    14333       74\n",
       "537876   25245_16    25245       16\n",
       "537877     4082_9     4082        9\n",
       "537878  19638_128    19638      128\n",
       "537879   40665_26    40665       26\n",
       "\n",
       "[537880 rows x 3 columns]"
      ]
     },
     "execution_count": 5,
     "metadata": {},
     "output_type": "execute_result"
    }
   ],
   "source": [
    "# Dataset de teste\n",
    "test"
   ]
  },
  {
   "cell_type": "code",
   "execution_count": 6,
   "metadata": {},
   "outputs": [
    {
     "data": {
      "text/html": [
       "<div>\n",
       "<style scoped>\n",
       "    .dataframe tbody tr th:only-of-type {\n",
       "        vertical-align: middle;\n",
       "    }\n",
       "\n",
       "    .dataframe tbody tr th {\n",
       "        vertical-align: top;\n",
       "    }\n",
       "\n",
       "    .dataframe thead th {\n",
       "        text-align: right;\n",
       "    }\n",
       "</style>\n",
       "<table border=\"1\" class=\"dataframe\">\n",
       "  <thead>\n",
       "    <tr style=\"text-align: right;\">\n",
       "      <th></th>\n",
       "      <th>joke_id</th>\n",
       "      <th>joke_text</th>\n",
       "    </tr>\n",
       "  </thead>\n",
       "  <tbody>\n",
       "    <tr>\n",
       "      <th>0</th>\n",
       "      <td>1</td>\n",
       "      <td>Q. What's O. J. Simpson's web address? A. Slash, slash, backslash, slash, slash, escape.</td>\n",
       "    </tr>\n",
       "    <tr>\n",
       "      <th>1</th>\n",
       "      <td>2</td>\n",
       "      <td>How many feminists does it take to screw in a light bulb? That's not funny.</td>\n",
       "    </tr>\n",
       "    <tr>\n",
       "      <th>2</th>\n",
       "      <td>3</td>\n",
       "      <td>Q. Did you hear about the dyslexic devil worshiper? A. He sold his soul to Santa.</td>\n",
       "    </tr>\n",
       "    <tr>\n",
       "      <th>3</th>\n",
       "      <td>4</td>\n",
       "      <td>They asked the Japanese visitor if they have elections in his country. \"Every morning,\" he answers.</td>\n",
       "    </tr>\n",
       "    <tr>\n",
       "      <th>4</th>\n",
       "      <td>5</td>\n",
       "      <td>Q: What did the blind person say when given some matzah? A: Who the hell wrote this?</td>\n",
       "    </tr>\n",
       "    <tr>\n",
       "      <th>...</th>\n",
       "      <td>...</td>\n",
       "      <td>...</td>\n",
       "    </tr>\n",
       "    <tr>\n",
       "      <th>134</th>\n",
       "      <td>135</td>\n",
       "      <td>A blonde, brunette, and a red head are all lined up to be shot to death by a firing squad. The brunette shouts, \"Tornado!\" and the riflemen turn around to see the tornado. It isn't there, and the brunette uses that time to escape. The red head yells, \"Lightning!\" and the riflemen again turn to see the disaster, yet there is no disaster and the red head escapes. The blonde yells, \"Fire!\" The riflemen do.</td>\n",
       "    </tr>\n",
       "    <tr>\n",
       "      <th>135</th>\n",
       "      <td>136</td>\n",
       "      <td>America: 8:00 - Welcome to work! 12:00 - Lunch break 17:00 - The work day is over Japan: 8:00 - Are you already at work? 12:00 - Continue your work 17:00 - The work day is over 20:00 - Please finish your work Romania: 8:00 - Has anyone come to work? 12:00 - Did someone start working? 16:00 - Is anyone at work?</td>\n",
       "    </tr>\n",
       "    <tr>\n",
       "      <th>136</th>\n",
       "      <td>137</td>\n",
       "      <td>It was the day of the big sale. Rumors of the sale (and some advertising in the local paper) were the main reason for the long line that formed by 8:30, the store's opening time, in front of the store. A small man pushed his way to the front of the line, only to be pushed back, amid loud and colorful curses. On the man's second attempt, he was punched square in the jaw, and knocked around a bit, and then thrown to the end of the line again. As he got up the second time, he said to the person at the end of the line... \"That does it! If they hit me one more time, I won't open the store!\"</td>\n",
       "    </tr>\n",
       "    <tr>\n",
       "      <th>137</th>\n",
       "      <td>138</td>\n",
       "      <td>Recently a teacher, a garbage collector, and a lawyer wound up together at the Pearly Gates. St. Peter informed them that in order to get into Heaven, they would each have to answer one question. St. Peter addressed the teacher and asked, \"What was the name of the ship that crashed into the iceberg? They just made a movie about it.\" The teacher answered quickly, \"That would be the Titanic.\" St. Peter let him through the gate. St. Peter turned to the garbage man and, figuring Heaven didn't really need all the odors that this guy would bring with him, decided to make the question a little ha...</td>\n",
       "    </tr>\n",
       "    <tr>\n",
       "      <th>138</th>\n",
       "      <td>139</td>\n",
       "      <td>A little girl asked her father, \"Daddy? Do all fairy tales begin with 'Once Upon a Time'?\" He replied, \"No, there is a whole series of fairy tales that begin with 'If elected I promise'.\"</td>\n",
       "    </tr>\n",
       "  </tbody>\n",
       "</table>\n",
       "<p>139 rows × 2 columns</p>\n",
       "</div>"
      ],
      "text/plain": [
       "     joke_id  \\\n",
       "0          1   \n",
       "1          2   \n",
       "2          3   \n",
       "3          4   \n",
       "4          5   \n",
       "..       ...   \n",
       "134      135   \n",
       "135      136   \n",
       "136      137   \n",
       "137      138   \n",
       "138      139   \n",
       "\n",
       "                                                                                                                                                                                                                                                                                                                                                                                                                                                                                                                                                                                                                   joke_text  \n",
       "0                                                                                                                                                                                                                                                                                                                                                                                                                                                                                                                                   Q. What's O. J. Simpson's web address? A. Slash, slash, backslash, slash, slash, escape.  \n",
       "1                                                                                                                                                                                                                                                                                                                                                                                                                                                                                                                                                How many feminists does it take to screw in a light bulb? That's not funny.  \n",
       "2                                                                                                                                                                                                                                                                                                                                                                                                                                                                                                                                          Q. Did you hear about the dyslexic devil worshiper? A. He sold his soul to Santa.  \n",
       "3                                                                                                                                                                                                                                                                                                                                                                                                                                                                                                                        They asked the Japanese visitor if they have elections in his country. \"Every morning,\" he answers.  \n",
       "4                                                                                                                                                                                                                                                                                                                                                                                                                                                                                                                                       Q: What did the blind person say when given some matzah? A: Who the hell wrote this?  \n",
       "..                                                                                                                                                                                                                                                                                                                                                                                                                                                                                                                                                                                                                       ...  \n",
       "134                                                                                                                                                                                                   A blonde, brunette, and a red head are all lined up to be shot to death by a firing squad. The brunette shouts, \"Tornado!\" and the riflemen turn around to see the tornado. It isn't there, and the brunette uses that time to escape. The red head yells, \"Lightning!\" and the riflemen again turn to see the disaster, yet there is no disaster and the red head escapes. The blonde yells, \"Fire!\" The riflemen do.  \n",
       "135                                                                                                                                                                                                                                                                                                  America: 8:00 - Welcome to work! 12:00 - Lunch break 17:00 - The work day is over Japan: 8:00 - Are you already at work? 12:00 - Continue your work 17:00 - The work day is over 20:00 - Please finish your work Romania: 8:00 - Has anyone come to work? 12:00 - Did someone start working? 16:00 - Is anyone at work?  \n",
       "136         It was the day of the big sale. Rumors of the sale (and some advertising in the local paper) were the main reason for the long line that formed by 8:30, the store's opening time, in front of the store. A small man pushed his way to the front of the line, only to be pushed back, amid loud and colorful curses. On the man's second attempt, he was punched square in the jaw, and knocked around a bit, and then thrown to the end of the line again. As he got up the second time, he said to the person at the end of the line... \"That does it! If they hit me one more time, I won't open the store!\"  \n",
       "137  Recently a teacher, a garbage collector, and a lawyer wound up together at the Pearly Gates. St. Peter informed them that in order to get into Heaven, they would each have to answer one question. St. Peter addressed the teacher and asked, \"What was the name of the ship that crashed into the iceberg? They just made a movie about it.\" The teacher answered quickly, \"That would be the Titanic.\" St. Peter let him through the gate. St. Peter turned to the garbage man and, figuring Heaven didn't really need all the odors that this guy would bring with him, decided to make the question a little ha...  \n",
       "138                                                                                                                                                                                                                                                                                                                                                                                                                              A little girl asked her father, \"Daddy? Do all fairy tales begin with 'Once Upon a Time'?\" He replied, \"No, there is a whole series of fairy tales that begin with 'If elected I promise'.\"  \n",
       "\n",
       "[139 rows x 2 columns]"
      ]
     },
     "execution_count": 6,
     "metadata": {},
     "output_type": "execute_result"
    }
   ],
   "source": [
    "# Dataset com piadas\n",
    "jokes"
   ]
  },
  {
   "cell_type": "code",
   "execution_count": 7,
   "metadata": {},
   "outputs": [
    {
     "name": "stdout",
     "output_type": "stream",
     "text": [
      "<class 'pandas.core.frame.DataFrame'>\n",
      "RangeIndex: 1092059 entries, 0 to 1092058\n",
      "Data columns (total 4 columns):\n",
      " #   Column   Non-Null Count    Dtype  \n",
      "---  ------   --------------    -----  \n",
      " 0   id       1092059 non-null  object \n",
      " 1   user_id  1092059 non-null  int64  \n",
      " 2   joke_id  1092059 non-null  int64  \n",
      " 3   Rating   1092059 non-null  float64\n",
      "dtypes: float64(1), int64(2), object(1)\n",
      "memory usage: 33.3+ MB\n"
     ]
    }
   ],
   "source": [
    "train.info()"
   ]
  },
  {
   "cell_type": "code",
   "execution_count": 6,
   "metadata": {},
   "outputs": [],
   "source": [
    "train[\"joke_text\"] = train.joke_id.apply(lambda x: jokes.loc[jokes.joke_id == x, \"joke_text\"][x-1])\n",
    "test[\"joke_text\"] = test.joke_id.apply(lambda x: jokes.loc[jokes.joke_id == x, \"joke_text\"][x-1])"
   ]
  },
  {
   "cell_type": "code",
   "execution_count": 8,
   "metadata": {},
   "outputs": [
    {
     "data": {
      "text/html": [
       "<div>\n",
       "<style scoped>\n",
       "    .dataframe tbody tr th:only-of-type {\n",
       "        vertical-align: middle;\n",
       "    }\n",
       "\n",
       "    .dataframe tbody tr th {\n",
       "        vertical-align: top;\n",
       "    }\n",
       "\n",
       "    .dataframe thead th {\n",
       "        text-align: right;\n",
       "    }\n",
       "</style>\n",
       "<table border=\"1\" class=\"dataframe\">\n",
       "  <thead>\n",
       "    <tr style=\"text-align: right;\">\n",
       "      <th></th>\n",
       "      <th>joke_id</th>\n",
       "      <th>Rating</th>\n",
       "      <th>user_id</th>\n",
       "      <th>id</th>\n",
       "    </tr>\n",
       "  </thead>\n",
       "  <tbody>\n",
       "    <tr>\n",
       "      <th>0</th>\n",
       "      <td>139</td>\n",
       "      <td>641</td>\n",
       "      <td>40863</td>\n",
       "      <td>1092059</td>\n",
       "    </tr>\n",
       "  </tbody>\n",
       "</table>\n",
       "</div>"
      ],
      "text/plain": [
       "   joke_id  Rating  user_id       id\n",
       "0      139     641    40863  1092059"
      ]
     },
     "execution_count": 8,
     "metadata": {},
     "output_type": "execute_result"
    }
   ],
   "source": [
    "# Cheching uniqueness of data\n",
    "train.select_dtypes([\"int64\", \"float64\", \"object\"]).nunique().sort_values().to_frame().T"
   ]
  },
  {
   "cell_type": "code",
   "execution_count": 9,
   "metadata": {},
   "outputs": [
    {
     "data": {
      "image/png": "[encoded data removed]",
      "text/plain": [
       "<Figure size 600x400 with 1 Axes>"
      ]
     },
     "metadata": {},
     "output_type": "display_data"
    }
   ],
   "source": [
    "plt.figure(figsize=(6, 4))\n",
    "plt.hist(train.Rating, edgecolor=\"black\")\n",
    "plt.title(\"Histogram\", fontweight=\"bold\", fontsize=14)\n",
    "plt.xlabel(\"Rating\")\n",
    "plt.ylabel(\"Probability\")\n",
    "plt.axvline(train.Rating.mean(), color=\"red\", linestyle=\"--\")\n",
    "plt.axvline(train.Rating.median(), color=\"blue\", linestyle=\"--\")\n",
    "plt.legend(title=\"\", labels=[\"Média\",\"Mediana\"], ncol=1, loc=\"best\")\n",
    "plt.show()"
   ]
  },
  {
   "cell_type": "code",
   "execution_count": 10,
   "metadata": {},
   "outputs": [
    {
     "data": {
      "text/plain": [
       "(1.7583939732193956, 5.2308597557955006, 27.361893784800966)"
      ]
     },
     "execution_count": 10,
     "metadata": {},
     "output_type": "execute_result"
    }
   ],
   "source": [
    "# Média, desvio padrão amostral e variança amostral da feature Rating\n",
    "mean(train.Rating), stdev(train.Rating), variance(train.Rating)"
   ]
  },
  {
   "attachments": {},
   "cell_type": "markdown",
   "metadata": {},
   "source": [
    "## Model"
   ]
  },
  {
   "cell_type": "code",
   "execution_count": 25,
   "metadata": {},
   "outputs": [],
   "source": [
    "reader = Reader(rating_scale=(-10., 10.))\n",
    "data = Dataset.load_from_df(train[[\"user_id\", \"joke_id\", \"Rating\"]], reader)"
   ]
  },
  {
   "cell_type": "code",
   "execution_count": 26,
   "metadata": {},
   "outputs": [],
   "source": [
    "X_train, X_test = train_test_split(data, test_size=0.2, random_state=2)"
   ]
  },
  {
   "cell_type": "code",
   "execution_count": 32,
   "metadata": {},
   "outputs": [],
   "source": [
    "model_svd = SVD(\n",
    "    n_factors=628,\n",
    "    n_epochs=203,\n",
    "    lr_bu=0.009388724398649437, \n",
    "    lr_bi=0.014980478328026079, \n",
    "    lr_pu=0.026445841298735544, \n",
    "    lr_qi=0.00306434987836987, \n",
    "    reg_bu=0.010422331957134049, \n",
    "    reg_bi=0.007467369368383485,\n",
    "    reg_pu=0.0023025456770393864,\n",
    "    reg_qi=0.08327985544490146,\n",
    "    random_state=4\n",
    ")"
   ]
  },
  {
   "cell_type": "code",
   "execution_count": 36,
   "metadata": {},
   "outputs": [
    {
     "name": "stdout",
     "output_type": "stream",
     "text": [
      "RMSE: 4.0467\n"
     ]
    },
    {
     "data": {
      "text/plain": [
       "4.0466527057"
      ]
     },
     "execution_count": 36,
     "metadata": {},
     "output_type": "execute_result"
    }
   ],
   "source": [
    "model_svd.fit(X_train)\n",
    "predic = model_svd.test(X_test)\n",
    "round(accuracy.rmse(predic), 10)"
   ]
  },
  {
   "cell_type": "code",
   "execution_count": 33,
   "metadata": {},
   "outputs": [
    {
     "name": "stdout",
     "output_type": "stream",
     "text": [
      "Fold: 1 RMSE: 4.0131620018\n",
      "Fold: 2 RMSE: 4.0056802927\n",
      "Fold: 3 RMSE: 4.0295339129\n",
      "Fold: 4 RMSE: 3.9969156059\n",
      "Fold: 5 RMSE: 3.9777553467\n",
      "Fold: 6 RMSE: 4.0342909982\n",
      "Fold: 7 RMSE: 3.9889000874\n",
      "Fold: 8 RMSE: 3.9963426705\n",
      "Fold: 9 RMSE: 4.0074410104\n",
      "Fold: 10 RMSE: 4.007845612\n",
      "Fold: 11 RMSE: 4.022778302\n",
      "Fold: 12 RMSE: 4.0163756675\n",
      "Fold: 13 RMSE: 4.0235271084\n",
      "Fold: 14 RMSE: 4.003793578\n",
      "Fold: 15 RMSE: 4.0047521226\n",
      "Fold: 16 RMSE: 3.9820015094\n",
      "Fold: 17 RMSE: 4.0332393466\n",
      "Fold: 18 RMSE: 4.0426890185\n",
      "Fold: 19 RMSE: 4.0263138633\n",
      "Fold: 20 RMSE: 4.001769442\n",
      "Fold: 21 RMSE: 4.0262794846\n",
      "Fold: 22 RMSE: 4.0309684948\n",
      "Fold: 23 RMSE: 3.9784003231\n",
      "Fold: 24 RMSE: 4.0228468267\n",
      "Fold: 25 RMSE: 3.9835754231\n",
      "Média RMSE CV 4.010287121964\n"
     ]
    }
   ],
   "source": [
    "mrmse = []\n",
    "kfold = 0\n",
    "kf = KFold(n_splits=25, random_state=4)\n",
    "\n",
    "for trainset, testset in kf.split(data):\n",
    "    model_svd.fit(trainset)\n",
    "    predic = model_svd.test(testset)\n",
    "    result = round(accuracy.rmse(predic, verbose=False), 10)\n",
    "    mrmse.append(result)\n",
    "    kfold += 1\n",
    "    print(\"Fold:\", kfold, \"RMSE:\", result)\n",
    "    if result <= 3.97:\n",
    "        break\n",
    "    \n",
    "print(\"Média RMSE CV\", mean(mrmse))"
   ]
  },
  {
   "attachments": {},
   "cell_type": "markdown",
   "metadata": {},
   "source": [
    "## Bayesian optimization"
   ]
  },
  {
   "cell_type": "code",
   "execution_count": 30,
   "metadata": {},
   "outputs": [],
   "source": [
    "space = [\n",
    "    Integer(500, 650, name=\"n_factors\"),\n",
    "    Integer(100, 250, name=\"n_epochs\"),\n",
    "    Real(1e-3, 1e-1, \"log-uniform\", name=\"lr_bu\"),\n",
    "    Real(1e-3, 1e-1, \"log-uniform\", name=\"lr_bi\"),\n",
    "    Real(1e-3, 1e-1, \"log-uniform\", name=\"lr_pu\"),\n",
    "    Real(1e-3, 1e-1, \"log-uniform\", name=\"lr_qi\"),\n",
    "    Real(1e-3, 1e-1, \"log-uniform\", name=\"reg_bu\"),\n",
    "    Real(1e-3, 1e-1, \"log-uniform\", name=\"reg_bi\"),\n",
    "    Real(1e-3, 1e-1, \"log-uniform\", name=\"reg_pu\"),\n",
    "    Real(1e-3, 1e-1, \"log-uniform\", name=\"reg_qi\")\n",
    "]"
   ]
  },
  {
   "cell_type": "code",
   "execution_count": 23,
   "metadata": {},
   "outputs": [],
   "source": [
    "@use_named_args(space)\n",
    "def svd_bayesian(**params):\n",
    "    \"\"\" \"\"\"\n",
    "    model_svd = SVD(**params, verbose=False, random_state=5)\n",
    "    model_svd.fit(X_train)\n",
    "    predic = model_svd.test(X_test)\n",
    "    result = round(accuracy.rmse(predic), 10)\n",
    "\n",
    "    return result"
   ]
  },
  {
   "cell_type": "code",
   "execution_count": 31,
   "metadata": {},
   "outputs": [
    {
     "name": "stdout",
     "output_type": "stream",
     "text": [
      "RMSE: 4.0734\n",
      "RMSE: 4.0639\n",
      "RMSE: 9.7779\n",
      "RMSE: 9.7779\n",
      "RMSE: 9.7779\n",
      "RMSE: 4.0791\n",
      "RMSE: 4.1186\n",
      "RMSE: 4.0978\n",
      "RMSE: 4.0856\n",
      "RMSE: 4.1272\n",
      "RMSE: 4.0858\n",
      "RMSE: 9.7779\n",
      "RMSE: 4.0615\n",
      "RMSE: 4.0697\n",
      "RMSE: 4.1539\n",
      "RMSE: 4.0786\n",
      "RMSE: 4.0513\n",
      "RMSE: 4.1069\n",
      "RMSE: 4.0952\n",
      "RMSE: 4.0899\n",
      "RMSE: 4.1556\n",
      "RMSE: 9.7779\n",
      "RMSE: 4.0401\n",
      "RMSE: 4.0411\n",
      "RMSE: 9.7779\n",
      "Best RMSE: 4.0401279227\n",
      "Best Parameters: [594, 204, 0.011028970762505055, 0.01948839884817338, 0.01, 0.003462543438421947, 0.1, 0.001, 0.001, 0.1]\n"
     ]
    }
   ],
   "source": [
    "# Gaussian processes\n",
    "res_gp = gp_minimize(\n",
    "    func=svd_bayesian, \n",
    "    dimensions=space,\n",
    "    n_initial_points=5, \n",
    "    n_calls=25,\n",
    "    verbose=False, \n",
    "    random_state=2\n",
    ")\n",
    "\n",
    "print('Best RMSE: %.10f' % (res_gp.fun)) \n",
    "print('Best Parameters: %s' % (res_gp.x))"
   ]
  },
  {
   "cell_type": "code",
   "execution_count": 14,
   "metadata": {},
   "outputs": [],
   "source": [
    "kf = KFold(n_splits=25, random_state=2)\n",
    "mrmse = []\n",
    "\n",
    "@use_named_args(space)\n",
    "def svd_bayesian_cv(**params):\n",
    "    \"\"\" \"\"\"\n",
    "    kfold = 0\n",
    "    mrmse.clear()\n",
    "    model_svd = SVD(**params, verbose=False, random_state=2)\n",
    "\n",
    "    for trainset, testset in kf.split(data):\n",
    "        model_svd.fit(trainset)\n",
    "        predic = model_svd.test(testset)\n",
    "        result = round(accuracy.rmse(predic, verbose=False), 10)\n",
    "        mrmse.append(result)\n",
    "        kfold += 1\n",
    "        print(\"Fold:\", kfold, \"RMSE:\", result)\n",
    "    \n",
    "    print(\"Média RMSE CV\", mean(mrmse), \"\\n\")\n",
    "    return min(mrmse)"
   ]
  },
  {
   "cell_type": "code",
   "execution_count": null,
   "metadata": {},
   "outputs": [],
   "source": [
    "# Gaussian processes\n",
    "res_gp_cv = gp_minimize(\n",
    "    func=svd_bayesian_cv, \n",
    "    dimensions=space,\n",
    "    n_initial_points=5, \n",
    "    n_calls=15,\n",
    "    verbose=False, \n",
    "    random_state=2\n",
    ")\n",
    "\n",
    "print('Best RMSE: %.10f' % (res_gp_cv.fun)) \n",
    "print('Best Parameters: %s' % (res_gp_cv.x))"
   ]
  },
  {
   "attachments": {},
   "cell_type": "markdown",
   "metadata": {},
   "source": [
    "Best RMSE: 3.9803072135\n",
    "Best Parameters: [628, 203, 0.009388724398649437, 0.014980478328026079, 0.026445841298735544, 0.00306434987836987, 0.010422331957134049, 0.007467369368383485, 0.0023025456770393864, 0.08327985544490146]"
   ]
  },
  {
   "attachments": {},
   "cell_type": "markdown",
   "metadata": {},
   "source": [
    "Best RMSE: 4.0045086550\n",
    "Best Parameters: [625, 204, 0.009521989486717746, 0.01336601625705214, 0.026640477454712163, 0.003017502613450248, 0.010572948868702966, 0.00730756395607531, 0.0023854022807244723, 0.0841150726472552]"
   ]
  },
  {
   "attachments": {},
   "cell_type": "markdown",
   "metadata": {},
   "source": [
    "Best RMSE: 4.0070194611\n",
    "Best Parameters: [543, 117, 0.002309160264028181, 0.009740461529916337, 0.013537244049515073, 0.0027776040326523213, 0.0342753850084279]"
   ]
  },
  {
   "cell_type": "code",
   "execution_count": null,
   "metadata": {},
   "outputs": [],
   "source": [
    "plot_convergence(res_gp)\n",
    "plt.show()"
   ]
  },
  {
   "cell_type": "markdown",
   "metadata": {},
   "source": [
    "## Submission"
   ]
  },
  {
   "cell_type": "code",
   "execution_count": 34,
   "metadata": {},
   "outputs": [
    {
     "name": "stderr",
     "output_type": "stream",
     "text": [
      "100%|██████████| 537880/537880 [01:28<00:00, 6083.97it/s]\n"
     ]
    }
   ],
   "source": [
    "pred = []\n",
    "\n",
    "for i in trange(test.shape[0]):\n",
    "    pred.append((test.iloc[i, 0], model_svd.predict(test.iloc[i, 1], test.iloc[i, 2])[3]))"
   ]
  },
  {
   "cell_type": "code",
   "execution_count": 35,
   "metadata": {},
   "outputs": [],
   "source": [
    "# Gerando CSV submission\n",
    "sub = pd.DataFrame(pred, columns = [\"id\", \"Rating\"])\n",
    "sub.to_csv(\"submission.csv\", index = False)"
   ]
  }
 ],
 "metadata": {
  "kernelspec": {
   "display_name": ".venv",
   "language": "python",
   "name": "python3"
  },
  "language_info": {
   "codemirror_mode": {
    "name": "ipython",
    "version": 3
   },
   "file_extension": ".py",
   "mimetype": "text/x-python",
   "name": "python",
   "nbconvert_exporter": "python",
   "pygments_lexer": "ipython3",
   "version": "3.9.16"
  },
  "orig_nbformat": 4,
  "vscode": {
   "interpreter": {
    "hash": "28881db74f895a016a5860811887b8fae75355e37edf4c7862c6a058fba3f87d"
   }
  }
 },
 "nbformat": 4,
 "nbformat_minor": 2
}
