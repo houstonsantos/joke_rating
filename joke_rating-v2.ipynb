{
 "cells": [
  {
   "cell_type": "code",
   "execution_count": 126,
   "metadata": {},
   "outputs": [],
   "source": [
    "import pandas as pd\n",
    "import numpy as np\n",
    "import matplotlib.pyplot as plt\n",
    "\n",
    "from tqdm import trange\n",
    "from skopt import gp_minimize\n",
    "from skopt.space import Real, Integer\n",
    "from skopt.plots import plot_convergence\n",
    "from statistics import stdev, variance, mean\n",
    "from fastai.tabular.all import *\n",
    "from fastai.collab import CollabDataLoaders, collab_learner\n",
    "from surprise import Reader, Dataset, accuracy, SVD\n",
    "from surprise.model_selection import KFold, train_test_split, cross_validate\n",
    "from sklearn.metrics import mean_squared_error\n",
    "from sklearn.preprocessing import StandardScaler\n",
    "#from sklearn.model_selection import train_test_split\n",
    "\n",
    "warnings.filterwarnings(\"ignore\")\n",
    "pd.set_option(\"display.max_columns\", None)"
   ]
  },
  {
   "cell_type": "markdown",
   "metadata": {},
   "source": [
    "## Exploratory Analysis"
   ]
  },
  {
   "cell_type": "code",
   "execution_count": 89,
   "metadata": {},
   "outputs": [
    {
     "name": "stdout",
     "output_type": "stream",
     "text": [
      "Train (1092059, 4)\n",
      "Test (537880, 3)\n"
     ]
    }
   ],
   "source": [
    "# Import of taining and test data\n",
    "train = pd.read_csv(\"dados/train.csv\")\n",
    "test = pd. read_csv(\"dados/test.csv\")\n",
    "jokes = pd.read_csv(\"dados/jokes.csv\")\n",
    "print(\"Train \" + str(train.shape))\n",
    "print(\"Test \" + str(test.shape))"
   ]
  },
  {
   "cell_type": "code",
   "execution_count": 57,
   "metadata": {},
   "outputs": [
    {
     "data": {
      "text/html": [
       "<div>\n",
       "<style scoped>\n",
       "    .dataframe tbody tr th:only-of-type {\n",
       "        vertical-align: middle;\n",
       "    }\n",
       "\n",
       "    .dataframe tbody tr th {\n",
       "        vertical-align: top;\n",
       "    }\n",
       "\n",
       "    .dataframe thead th {\n",
       "        text-align: right;\n",
       "    }\n",
       "</style>\n",
       "<table border=\"1\" class=\"dataframe\">\n",
       "  <thead>\n",
       "    <tr style=\"text-align: right;\">\n",
       "      <th></th>\n",
       "      <th>id</th>\n",
       "      <th>user_id</th>\n",
       "      <th>joke_id</th>\n",
       "      <th>Rating</th>\n",
       "    </tr>\n",
       "  </thead>\n",
       "  <tbody>\n",
       "    <tr>\n",
       "      <th>0</th>\n",
       "      <td>31030_110</td>\n",
       "      <td>31030</td>\n",
       "      <td>110</td>\n",
       "      <td>2.750</td>\n",
       "    </tr>\n",
       "    <tr>\n",
       "      <th>1</th>\n",
       "      <td>16144_109</td>\n",
       "      <td>16144</td>\n",
       "      <td>109</td>\n",
       "      <td>5.094</td>\n",
       "    </tr>\n",
       "    <tr>\n",
       "      <th>2</th>\n",
       "      <td>23098_6</td>\n",
       "      <td>23098</td>\n",
       "      <td>6</td>\n",
       "      <td>-6.438</td>\n",
       "    </tr>\n",
       "    <tr>\n",
       "      <th>3</th>\n",
       "      <td>14273_86</td>\n",
       "      <td>14273</td>\n",
       "      <td>86</td>\n",
       "      <td>4.406</td>\n",
       "    </tr>\n",
       "    <tr>\n",
       "      <th>4</th>\n",
       "      <td>18419_134</td>\n",
       "      <td>18419</td>\n",
       "      <td>134</td>\n",
       "      <td>9.375</td>\n",
       "    </tr>\n",
       "  </tbody>\n",
       "</table>\n",
       "</div>"
      ],
      "text/plain": [
       "          id  user_id  joke_id  Rating\n",
       "0  31030_110    31030      110   2.750\n",
       "1  16144_109    16144      109   5.094\n",
       "2    23098_6    23098        6  -6.438\n",
       "3   14273_86    14273       86   4.406\n",
       "4  18419_134    18419      134   9.375"
      ]
     },
     "execution_count": 57,
     "metadata": {},
     "output_type": "execute_result"
    }
   ],
   "source": [
    "train"
   ]
  },
  {
   "cell_type": "code",
   "execution_count": 54,
   "metadata": {},
   "outputs": [
    {
     "data": {
      "text/html": [
       "<div>\n",
       "<style scoped>\n",
       "    .dataframe tbody tr th:only-of-type {\n",
       "        vertical-align: middle;\n",
       "    }\n",
       "\n",
       "    .dataframe tbody tr th {\n",
       "        vertical-align: top;\n",
       "    }\n",
       "\n",
       "    .dataframe thead th {\n",
       "        text-align: right;\n",
       "    }\n",
       "</style>\n",
       "<table border=\"1\" class=\"dataframe\">\n",
       "  <thead>\n",
       "    <tr style=\"text-align: right;\">\n",
       "      <th></th>\n",
       "      <th>id</th>\n",
       "      <th>user_id</th>\n",
       "      <th>joke_id</th>\n",
       "    </tr>\n",
       "  </thead>\n",
       "  <tbody>\n",
       "    <tr>\n",
       "      <th>0</th>\n",
       "      <td>6194_11</td>\n",
       "      <td>6194</td>\n",
       "      <td>11</td>\n",
       "    </tr>\n",
       "    <tr>\n",
       "      <th>1</th>\n",
       "      <td>19356_3</td>\n",
       "      <td>19356</td>\n",
       "      <td>3</td>\n",
       "    </tr>\n",
       "    <tr>\n",
       "      <th>2</th>\n",
       "      <td>23426_79</td>\n",
       "      <td>23426</td>\n",
       "      <td>79</td>\n",
       "    </tr>\n",
       "    <tr>\n",
       "      <th>3</th>\n",
       "      <td>40030_3</td>\n",
       "      <td>40030</td>\n",
       "      <td>3</td>\n",
       "    </tr>\n",
       "    <tr>\n",
       "      <th>4</th>\n",
       "      <td>19806_115</td>\n",
       "      <td>19806</td>\n",
       "      <td>115</td>\n",
       "    </tr>\n",
       "  </tbody>\n",
       "</table>\n",
       "</div>"
      ],
      "text/plain": [
       "          id  user_id  joke_id\n",
       "0    6194_11     6194       11\n",
       "1    19356_3    19356        3\n",
       "2   23426_79    23426       79\n",
       "3    40030_3    40030        3\n",
       "4  19806_115    19806      115"
      ]
     },
     "execution_count": 54,
     "metadata": {},
     "output_type": "execute_result"
    }
   ],
   "source": [
    "test"
   ]
  },
  {
   "cell_type": "code",
   "execution_count": 6,
   "metadata": {},
   "outputs": [
    {
     "data": {
      "text/html": [
       "<div>\n",
       "<style scoped>\n",
       "    .dataframe tbody tr th:only-of-type {\n",
       "        vertical-align: middle;\n",
       "    }\n",
       "\n",
       "    .dataframe tbody tr th {\n",
       "        vertical-align: top;\n",
       "    }\n",
       "\n",
       "    .dataframe thead th {\n",
       "        text-align: right;\n",
       "    }\n",
       "</style>\n",
       "<table border=\"1\" class=\"dataframe\">\n",
       "  <thead>\n",
       "    <tr style=\"text-align: right;\">\n",
       "      <th></th>\n",
       "      <th>joke_id</th>\n",
       "      <th>joke_text</th>\n",
       "    </tr>\n",
       "  </thead>\n",
       "  <tbody>\n",
       "    <tr>\n",
       "      <th>0</th>\n",
       "      <td>1</td>\n",
       "      <td>Q. What's O. J. Simpson's web address? A. Slash, slash, backslash, slash, slash, escape.</td>\n",
       "    </tr>\n",
       "    <tr>\n",
       "      <th>1</th>\n",
       "      <td>2</td>\n",
       "      <td>How many feminists does it take to screw in a light bulb? That's not funny.</td>\n",
       "    </tr>\n",
       "    <tr>\n",
       "      <th>2</th>\n",
       "      <td>3</td>\n",
       "      <td>Q. Did you hear about the dyslexic devil worshiper? A. He sold his soul to Santa.</td>\n",
       "    </tr>\n",
       "    <tr>\n",
       "      <th>3</th>\n",
       "      <td>4</td>\n",
       "      <td>They asked the Japanese visitor if they have elections in his country. \"Every morning,\" he answers.</td>\n",
       "    </tr>\n",
       "    <tr>\n",
       "      <th>4</th>\n",
       "      <td>5</td>\n",
       "      <td>Q: What did the blind person say when given some matzah? A: Who the hell wrote this?</td>\n",
       "    </tr>\n",
       "  </tbody>\n",
       "</table>\n",
       "</div>"
      ],
      "text/plain": [
       "   joke_id  \\\n",
       "0        1   \n",
       "1        2   \n",
       "2        3   \n",
       "3        4   \n",
       "4        5   \n",
       "\n",
       "                                                                                             joke_text  \n",
       "0             Q. What's O. J. Simpson's web address? A. Slash, slash, backslash, slash, slash, escape.  \n",
       "1                          How many feminists does it take to screw in a light bulb? That's not funny.  \n",
       "2                    Q. Did you hear about the dyslexic devil worshiper? A. He sold his soul to Santa.  \n",
       "3  They asked the Japanese visitor if they have elections in his country. \"Every morning,\" he answers.  \n",
       "4                 Q: What did the blind person say when given some matzah? A: Who the hell wrote this?  "
      ]
     },
     "execution_count": 6,
     "metadata": {},
     "output_type": "execute_result"
    }
   ],
   "source": [
    "jokes"
   ]
  },
  {
   "cell_type": "code",
   "execution_count": 6,
   "metadata": {},
   "outputs": [],
   "source": [
    "train[\"joke_text\"] = train.joke_id.apply(lambda x: jokes.loc[jokes.joke_id == x, \"joke_text\"][x-1])\n",
    "test[\"joke_text\"] = test.joke_id.apply(lambda x: jokes.loc[jokes.joke_id == x, \"joke_text\"][x-1])"
   ]
  },
  {
   "cell_type": "code",
   "execution_count": 7,
   "metadata": {},
   "outputs": [
    {
     "name": "stdout",
     "output_type": "stream",
     "text": [
      "<class 'pandas.core.frame.DataFrame'>\n",
      "RangeIndex: 1092059 entries, 0 to 1092058\n",
      "Data columns (total 4 columns):\n",
      " #   Column   Non-Null Count    Dtype  \n",
      "---  ------   --------------    -----  \n",
      " 0   id       1092059 non-null  object \n",
      " 1   user_id  1092059 non-null  int64  \n",
      " 2   joke_id  1092059 non-null  int64  \n",
      " 3   Rating   1092059 non-null  float64\n",
      "dtypes: float64(1), int64(2), object(1)\n",
      "memory usage: 33.3+ MB\n"
     ]
    }
   ],
   "source": [
    "train.info()"
   ]
  },
  {
   "cell_type": "code",
   "execution_count": 8,
   "metadata": {},
   "outputs": [
    {
     "data": {
      "text/html": [
       "<div>\n",
       "<style scoped>\n",
       "    .dataframe tbody tr th:only-of-type {\n",
       "        vertical-align: middle;\n",
       "    }\n",
       "\n",
       "    .dataframe tbody tr th {\n",
       "        vertical-align: top;\n",
       "    }\n",
       "\n",
       "    .dataframe thead th {\n",
       "        text-align: right;\n",
       "    }\n",
       "</style>\n",
       "<table border=\"1\" class=\"dataframe\">\n",
       "  <thead>\n",
       "    <tr style=\"text-align: right;\">\n",
       "      <th></th>\n",
       "      <th>joke_id</th>\n",
       "      <th>Rating</th>\n",
       "      <th>user_id</th>\n",
       "      <th>id</th>\n",
       "    </tr>\n",
       "  </thead>\n",
       "  <tbody>\n",
       "    <tr>\n",
       "      <th>0</th>\n",
       "      <td>139</td>\n",
       "      <td>641</td>\n",
       "      <td>40863</td>\n",
       "      <td>1092059</td>\n",
       "    </tr>\n",
       "  </tbody>\n",
       "</table>\n",
       "</div>"
      ],
      "text/plain": [
       "   joke_id  Rating  user_id       id\n",
       "0      139     641    40863  1092059"
      ]
     },
     "execution_count": 8,
     "metadata": {},
     "output_type": "execute_result"
    }
   ],
   "source": [
    "# Cheching uniqueness of data\n",
    "train.select_dtypes([\"int64\", \"float64\", \"object\"]).nunique().sort_values().to_frame().T"
   ]
  },
  {
   "cell_type": "code",
   "execution_count": 9,
   "metadata": {},
   "outputs": [
    {
     "data": {
      "image/png": "[encoded data removed]",
      "text/plain": [
       "<Figure size 600x400 with 1 Axes>"
      ]
     },
     "metadata": {},
     "output_type": "display_data"
    }
   ],
   "source": [
    "plt.figure(figsize=(6, 4))\n",
    "plt.hist(train.Rating, edgecolor=\"black\")\n",
    "plt.title(\"Histogram\", fontweight=\"bold\", fontsize=14)\n",
    "plt.xlabel(\"Rating\")\n",
    "plt.ylabel(\"Probability\")\n",
    "plt.axvline(train.Rating.mean(), color=\"red\", linestyle=\"--\")\n",
    "plt.axvline(train.Rating.median(), color=\"blue\", linestyle=\"--\")\n",
    "plt.legend(title=\"\", labels=[\"Média\",\"Mediana\"], ncol=1, loc=\"best\")\n",
    "plt.show()"
   ]
  },
  {
   "cell_type": "code",
   "execution_count": null,
   "metadata": {},
   "outputs": [],
   "source": [
    "#\n",
    "mean(train.Rating), stdev(train.Rating), variance(train.Rating)"
   ]
  },
  {
   "attachments": {},
   "cell_type": "markdown",
   "metadata": {},
   "source": [
    "## Model"
   ]
  },
  {
   "cell_type": "code",
   "execution_count": 117,
   "metadata": {},
   "outputs": [],
   "source": [
    "reader = Reader(rating_scale=(-10., 10.))\n",
    "data = Dataset.load_from_df(train[[\"user_id\", \"joke_id\", \"Rating\"]], reader)"
   ]
  },
  {
   "cell_type": "code",
   "execution_count": 139,
   "metadata": {},
   "outputs": [],
   "source": [
    "kf = KFold(n_splits=25, random_state=2)\n",
    "model_svd = SVD(n_factors=500, n_epochs=150, lr_all=0.002, random_state=2)"
   ]
  },
  {
   "cell_type": "code",
   "execution_count": 140,
   "metadata": {},
   "outputs": [
    {
     "name": "stdout",
     "output_type": "stream",
     "text": [
      "Fold: 1 RMSE: 4.022480292\n",
      "Fold: 2 RMSE: 4.0434216556\n",
      "Fold: 3 RMSE: 4.0112240336\n",
      "Fold: 4 RMSE: 3.9990806759\n",
      "Fold: 5 RMSE: 4.0209763788\n",
      "Fold: 6 RMSE: 4.0063394407\n",
      "Fold: 7 RMSE: 4.0171039151\n",
      "Fold: 8 RMSE: 4.0106816866\n",
      "Fold: 9 RMSE: 4.0317916075\n",
      "Fold: 10 RMSE: 4.0514273617\n",
      "Fold: 11 RMSE: 4.0170138544\n",
      "Fold: 12 RMSE: 4.0271784629\n",
      "Fold: 13 RMSE: 4.0132107717\n",
      "Fold: 14 RMSE: 4.0092835669\n",
      "Fold: 15 RMSE: 4.0175687638\n",
      "Fold: 16 RMSE: 4.0271032279\n",
      "Fold: 17 RMSE: 4.0240119199\n",
      "Fold: 18 RMSE: 4.0095551655\n",
      "Fold: 19 RMSE: 4.0250546031\n",
      "Fold: 20 RMSE: 4.033257863\n",
      "Fold: 21 RMSE: 4.0183233865\n",
      "Fold: 22 RMSE: 4.0070728759\n",
      "Fold: 23 RMSE: 4.0114345756\n",
      "Fold: 24 RMSE: 4.0236949618\n",
      "Fold: 25 RMSE: 4.0137682404\n",
      "Média RMSE CV 4.019682371472\n"
     ]
    }
   ],
   "source": [
    "mrmse = []\n",
    "kfold = 0\n",
    "\n",
    "for trainset, testset in kf.split(data):\n",
    "    model_svd.fit(trainset)\n",
    "    predic = model_svd.test(testset)\n",
    "    result = round(accuracy.rmse(predic, verbose=False), 10)\n",
    "    mrmse.append(result)\n",
    "    kfold += 1\n",
    "    print(\"Fold:\", kfold, \"RMSE:\", result)\n",
    "    \n",
    "print(\"Média RMSE CV\", mean(mrmse))"
   ]
  },
  {
   "cell_type": "code",
   "execution_count": 115,
   "metadata": {},
   "outputs": [
    {
     "name": "stderr",
     "output_type": "stream",
     "text": [
      "100%|██████████| 537880/537880 [01:24<00:00, 6347.77it/s]\n"
     ]
    }
   ],
   "source": [
    "pred = []\n",
    "\n",
    "for i in trange(test.shape[0]):\n",
    "    pred.append((test.iloc[i, 0], model_svd.predict(test.iloc[i, 1], test.iloc[i, 2])[3]))"
   ]
  },
  {
   "attachments": {},
   "cell_type": "markdown",
   "metadata": {},
   "source": [
    "## Bayesian optimization"
   ]
  },
  {
   "cell_type": "code",
   "execution_count": 127,
   "metadata": {},
   "outputs": [],
   "source": [
    "def svd_bayesian(params):\n",
    "    \"\"\" \"\"\"\n",
    "    model_svd = SVD(n_factors=params[0], n_epochs=params[1], lr_all=params[2], verbose=False, random_state=5)\n",
    "    model_svd.fit(trainset)\n",
    "    predic = model_svd.test(testset)\n",
    "    result = round(accuracy.rmse(predic), 10)\n",
    "\n",
    "    return result"
   ]
  },
  {
   "cell_type": "code",
   "execution_count": 69,
   "metadata": {},
   "outputs": [],
   "source": [
    "kf = KFold(n_splits=5)\n",
    "mrmse = []\n",
    "\n",
    "def svd_bayesian_cv(params):\n",
    "    \"\"\" \"\"\"\n",
    "    kfold = 0\n",
    "    mrmse.clear()\n",
    "    model_svd = SVD(n_factors=params[0], n_epochs=params[1], lr_all=params[2], verbose=False, random_state=5)\n",
    "    for trainset, testset in kf.split(data):\n",
    "        model_svd.fit(trainset)\n",
    "        predic = model_svd.test(testset)\n",
    "        result = round(accuracy.rmse(predic, verbose=False), 10)\n",
    "        mrmse.append(result)\n",
    "        kfold += 1\n",
    "        print(\"Fold:\", kfold, \"RMSE:\", result)\n",
    "    \n",
    "    print(\"Média RMSE CV\", mean(mrmse), \"\\n\")\n",
    "    return min(mrmse)"
   ]
  },
  {
   "cell_type": "code",
   "execution_count": null,
   "metadata": {},
   "outputs": [],
   "source": [
    "pbounds = [\n",
    "    Integer(500, 550), #n_factors\n",
    "    Integer(100, 150), #n_epochs\n",
    "    Real(1e-3, 1e-1, \"log-uniform\") #lr_all\n",
    "]"
   ]
  },
  {
   "cell_type": "code",
   "execution_count": 128,
   "metadata": {},
   "outputs": [
    {
     "name": "stdout",
     "output_type": "stream",
     "text": [
      "Iteration No: 1 started. Evaluating function at random point.\n",
      "RMSE: 9.7813\n",
      "Iteration No: 1 ended. Evaluation done at random point.\n",
      "Time taken: 214.9960\n",
      "Function value obtained: 9.7813\n",
      "Current minimum: 9.7813\n",
      "Iteration No: 2 started. Evaluating function at random point.\n",
      "RMSE: 4.0398\n",
      "Iteration No: 2 ended. Evaluation done at random point.\n",
      "Time taken: 174.9775\n",
      "Function value obtained: 4.0398\n",
      "Current minimum: 4.0398\n",
      "Iteration No: 3 started. Evaluating function at random point.\n",
      "RMSE: 9.7813\n",
      "Iteration No: 3 ended. Evaluation done at random point.\n",
      "Time taken: 216.1260\n",
      "Function value obtained: 9.7813\n",
      "Current minimum: 4.0398\n",
      "Iteration No: 4 started. Evaluating function at random point.\n",
      "RMSE: 4.0327\n",
      "Iteration No: 4 ended. Evaluation done at random point.\n",
      "Time taken: 207.9965\n",
      "Function value obtained: 4.0327\n",
      "Current minimum: 4.0327\n",
      "Iteration No: 5 started. Evaluating function at random point.\n",
      "RMSE: 9.7813\n",
      "Iteration No: 5 ended. Evaluation done at random point.\n",
      "Time taken: 195.8815\n",
      "Function value obtained: 9.7813\n",
      "Current minimum: 4.0327\n",
      "Iteration No: 6 started. Searching for the next optimal point.\n",
      "RMSE: 4.0429\n",
      "Iteration No: 6 ended. Search finished for the next optimal point.\n",
      "Time taken: 274.1388\n",
      "Function value obtained: 4.0429\n",
      "Current minimum: 4.0327\n",
      "Iteration No: 7 started. Searching for the next optimal point.\n",
      "RMSE: 4.0233\n",
      "Iteration No: 7 ended. Search finished for the next optimal point.\n",
      "Time taken: 184.7988\n",
      "Function value obtained: 4.0233\n",
      "Current minimum: 4.0233\n",
      "Iteration No: 8 started. Searching for the next optimal point.\n",
      "RMSE: 9.7813\n",
      "Iteration No: 8 ended. Search finished for the next optimal point.\n",
      "Time taken: 171.1267\n",
      "Function value obtained: 9.7813\n",
      "Current minimum: 4.0233\n",
      "Iteration No: 9 started. Searching for the next optimal point.\n",
      "RMSE: 4.0273\n",
      "Iteration No: 9 ended. Search finished for the next optimal point.\n",
      "Time taken: 182.5977\n",
      "Function value obtained: 4.0273\n",
      "Current minimum: 4.0233\n",
      "Iteration No: 10 started. Searching for the next optimal point.\n",
      "RMSE: 4.0257\n",
      "Iteration No: 10 ended. Search finished for the next optimal point.\n",
      "Time taken: 184.0863\n",
      "Function value obtained: 4.0257\n",
      "Current minimum: 4.0233\n",
      "Iteration No: 11 started. Searching for the next optimal point.\n",
      "RMSE: 4.0270\n",
      "Iteration No: 11 ended. Search finished for the next optimal point.\n",
      "Time taken: 191.3950\n",
      "Function value obtained: 4.0270\n",
      "Current minimum: 4.0233\n",
      "Iteration No: 12 started. Searching for the next optimal point.\n",
      "RMSE: 4.0400\n",
      "Iteration No: 12 ended. Search finished for the next optimal point.\n",
      "Time taken: 187.5323\n",
      "Function value obtained: 4.0400\n",
      "Current minimum: 4.0233\n",
      "Iteration No: 13 started. Searching for the next optimal point.\n",
      "RMSE: 4.0270\n",
      "Iteration No: 13 ended. Search finished for the next optimal point.\n",
      "Time taken: 195.2858\n",
      "Function value obtained: 4.0270\n",
      "Current minimum: 4.0233\n",
      "Iteration No: 14 started. Searching for the next optimal point.\n",
      "RMSE: 4.0238\n",
      "Iteration No: 14 ended. Search finished for the next optimal point.\n",
      "Time taken: 165.1844\n",
      "Function value obtained: 4.0238\n",
      "Current minimum: 4.0233\n",
      "Iteration No: 15 started. Searching for the next optimal point.\n",
      "RMSE: 4.0215\n",
      "Iteration No: 15 ended. Search finished for the next optimal point.\n",
      "Time taken: 239.1529\n",
      "Function value obtained: 4.0215\n",
      "Current minimum: 4.0215\n"
     ]
    }
   ],
   "source": [
    "gpmin = gp_minimize(\n",
    "    func=svd_bayesian, \n",
    "    dimensions=pbounds, \n",
    "    verbose=True, \n",
    "    n_initial_points=5, \n",
    "    n_calls=15,\n",
    "    random_state=5\n",
    ")"
   ]
  },
  {
   "cell_type": "code",
   "execution_count": 130,
   "metadata": {},
   "outputs": [
    {
     "data": {
      "image/png": "[encoded data removed]",
      "text/plain": [
       "<Figure size 640x480 with 1 Axes>"
      ]
     },
     "metadata": {},
     "output_type": "display_data"
    }
   ],
   "source": [
    "plot_convergence(gpmin)\n",
    "plt.show()"
   ]
  },
  {
   "cell_type": "code",
   "execution_count": 132,
   "metadata": {},
   "outputs": [
    {
     "data": {
      "text/plain": [
       "[500, 150, 0.002636920988115368]"
      ]
     },
     "execution_count": 132,
     "metadata": {},
     "output_type": "execute_result"
    }
   ],
   "source": [
    "gpmin.x"
   ]
  },
  {
   "cell_type": "code",
   "execution_count": 137,
   "metadata": {},
   "outputs": [
    {
     "data": {
      "text/plain": [
       "[[517, 125, 0.020683069417915877],\n",
       " [540, 100, 0.0013976101758345874],\n",
       " [526, 126, 0.07747705649474365],\n",
       " [548, 114, 0.006635902876186745],\n",
       " [510, 111, 0.02384734880276758],\n",
       " [550, 150, 0.001],\n",
       " [547, 100, 0.0022210706238048055],\n",
       " [550, 100, 0.1],\n",
       " [550, 110, 0.005488912255690464],\n",
       " [550, 110, 0.005001839626485886],\n",
       " [548, 114, 0.005402193044089958],\n",
       " [544, 110, 0.0012799201923093116],\n",
       " [547, 115, 0.006152328244355581],\n",
       " [550, 100, 0.0032700860046309373],\n",
       " [500, 150, 0.002636920988115368]]"
      ]
     },
     "execution_count": 137,
     "metadata": {},
     "output_type": "execute_result"
    }
   ],
   "source": [
    "gpmin.x_iters"
   ]
  },
  {
   "cell_type": "code",
   "execution_count": 138,
   "metadata": {},
   "outputs": [
    {
     "data": {
      "text/plain": [
       "array([9.78125984, 4.03984622, 9.78125984, 4.03273915, 9.78125984,\n",
       "       4.04285501, 4.02334236, 9.78125984, 4.02734727, 4.02573532,\n",
       "       4.02696127, 4.0400498 , 4.02701123, 4.02377623, 4.02148195])"
      ]
     },
     "execution_count": 138,
     "metadata": {},
     "output_type": "execute_result"
    }
   ],
   "source": [
    "gpmin.func_vals"
   ]
  },
  {
   "cell_type": "markdown",
   "metadata": {},
   "source": [
    "## Submission"
   ]
  },
  {
   "cell_type": "code",
   "execution_count": 116,
   "metadata": {},
   "outputs": [],
   "source": [
    "# Submission surprise model\n",
    "sub = pd.DataFrame(pred, columns = [\"id\", \"Rating\"])\n",
    "sub.to_csv(\"submission.csv\", index = False)"
   ]
  },
  {
   "cell_type": "code",
   "execution_count": 56,
   "metadata": {},
   "outputs": [
    {
     "data": {
      "text/html": [
       "<div>\n",
       "<style scoped>\n",
       "    .dataframe tbody tr th:only-of-type {\n",
       "        vertical-align: middle;\n",
       "    }\n",
       "\n",
       "    .dataframe tbody tr th {\n",
       "        vertical-align: top;\n",
       "    }\n",
       "\n",
       "    .dataframe thead th {\n",
       "        text-align: right;\n",
       "    }\n",
       "</style>\n",
       "<table border=\"1\" class=\"dataframe\">\n",
       "  <thead>\n",
       "    <tr style=\"text-align: right;\">\n",
       "      <th></th>\n",
       "      <th>id</th>\n",
       "      <th>user_id</th>\n",
       "      <th>joke_id</th>\n",
       "      <th>Rating</th>\n",
       "    </tr>\n",
       "  </thead>\n",
       "  <tbody>\n",
       "    <tr>\n",
       "      <th>0</th>\n",
       "      <td>6194_11</td>\n",
       "      <td>6194</td>\n",
       "      <td>11</td>\n",
       "      <td>1.157151</td>\n",
       "    </tr>\n",
       "    <tr>\n",
       "      <th>1</th>\n",
       "      <td>19356_3</td>\n",
       "      <td>19356</td>\n",
       "      <td>3</td>\n",
       "      <td>-0.514256</td>\n",
       "    </tr>\n",
       "    <tr>\n",
       "      <th>2</th>\n",
       "      <td>23426_79</td>\n",
       "      <td>23426</td>\n",
       "      <td>79</td>\n",
       "      <td>4.685508</td>\n",
       "    </tr>\n",
       "    <tr>\n",
       "      <th>3</th>\n",
       "      <td>40030_3</td>\n",
       "      <td>40030</td>\n",
       "      <td>3</td>\n",
       "      <td>-2.414566</td>\n",
       "    </tr>\n",
       "    <tr>\n",
       "      <th>4</th>\n",
       "      <td>19806_115</td>\n",
       "      <td>19806</td>\n",
       "      <td>115</td>\n",
       "      <td>6.191740</td>\n",
       "    </tr>\n",
       "  </tbody>\n",
       "</table>\n",
       "</div>"
      ],
      "text/plain": [
       "          id  user_id  joke_id    Rating\n",
       "0    6194_11     6194       11  1.157151\n",
       "1    19356_3    19356        3 -0.514256\n",
       "2   23426_79    23426       79  4.685508\n",
       "3    40030_3    40030        3 -2.414566\n",
       "4  19806_115    19806      115  6.191740"
      ]
     },
     "execution_count": 56,
     "metadata": {},
     "output_type": "execute_result"
    }
   ],
   "source": [
    "# Submission fastai model\n",
    "test[\"Rating\"] = preds\n",
    "test.loc[:, [\"id\", \"Rating\"]].to_csv(\"submission.csv\", index=False)\n",
    "test.head()"
   ]
  }
 ],
 "metadata": {
  "kernelspec": {
   "display_name": ".venv",
   "language": "python",
   "name": "python3"
  },
  "language_info": {
   "codemirror_mode": {
    "name": "ipython",
    "version": 3
   },
   "file_extension": ".py",
   "mimetype": "text/x-python",
   "name": "python",
   "nbconvert_exporter": "python",
   "pygments_lexer": "ipython3",
   "version": "3.9.16"
  },
  "orig_nbformat": 4,
  "vscode": {
   "interpreter": {
    "hash": "28881db74f895a016a5860811887b8fae75355e37edf4c7862c6a058fba3f87d"
   }
  }
 },
 "nbformat": 4,
 "nbformat_minor": 2
}
