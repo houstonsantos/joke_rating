{
 "cells": [
  {
   "attachments": {},
   "cell_type": "markdown",
   "metadata": {},
   "source": [
    "<div align=\"center\">\n",
    "\n",
    "![hou](https://datahack-prod.s3.ap-south-1.amazonaws.com/__sized__/contest_cover/is_this_funny-thumbnail-1200x1200-70.jpg)\n",
    "\n",
    "</div>"
   ]
  },
  {
   "cell_type": "markdown",
   "metadata": {},
   "source": [
    "Nesta competição da Analytics Vidhya temos que prever notas que são atribuidas a piadas, vamos cria um modelo de recomendação (**RecSys**). Para validarmos o modelo vou utilizar a métrica **RMSE** estipulada pela competição.\n",
    "\n",
    "<p align=\"center\">\n",
    "    <img width=\"700\" height=\"250\" src=\"https://miro.medium.com/v2/resize:fit:1400/format:webp/1*kgBD8OuP7SMsL63gcsQ90Q.png\">\n",
    "</p>"
   ]
  },
  {
   "cell_type": "markdown",
   "metadata": {},
   "source": [
    "Os exemplos são diversos: a Amazon recomenda livros (ou qual coisa do marketplace), a Netflix faz recomendação de Filmes, o Mendeley recomenda artigos ciêntíficos, a Globo.com recomenda notícias e o Spotify às músicas.\n",
    "\n",
    "*   Temos algumas opções de algoritimos de Machine Learning para RecSys.\n",
    "\n",
    "    *   Filtragem Baseada em Conteúdo (Content-Based)\n",
    "    *   Filtragem Colaborativa (Collaborative Filter)\n",
    "    *   Sistemas Híbridos (Hybrid)\n",
    "    *   Cold-Start\n",
    "\n",
    "Aqui não abordarei as vantagens e desvatagens deles, na seção Modelo onde criaremos nossa máquina preditiva, abordarei um pouco sobre a escolha realizada."
   ]
  },
  {
   "cell_type": "code",
   "execution_count": 98,
   "metadata": {},
   "outputs": [],
   "source": [
    "# Importando bibliotecas.\n",
    "import warnings\n",
    "import pandas as pd\n",
    "import numpy as np\n",
    "import matplotlib.pyplot as plt\n",
    "from tqdm import trange\n",
    "\n",
    "from skopt import gp_minimize\n",
    "from skopt.space import Real, Integer\n",
    "from skopt.utils import use_named_args\n",
    "from skopt.plots import plot_convergence\n",
    "from skopt.callbacks import EarlyStopper\n",
    "\n",
    "from scipy import stats\n",
    "from statistics import stdev, mean\n",
    "\n",
    "from surprise import Reader, Dataset, accuracy, SVD\n",
    "from surprise.model_selection import KFold, train_test_split, cross_validate\n",
    "from sklearn.metrics import mean_squared_error\n",
    "\n",
    "warnings.filterwarnings(\"ignore\")\n",
    "#pd.set_option(\"display.max_columns\", None)\n",
    "#pd.set_option(\"display.max_rows\", None)"
   ]
  },
  {
   "cell_type": "markdown",
   "metadata": {},
   "source": [
    "# Análise Exploratória\n",
    "Aqui iremos realizar uma breve exploração de nossos dados, demostrar algumas estáticas. Nosso dataset já é conhecido, temos apenas quatro features e nossa variável alvo é a Rating(nota) atribuida pelos usuários às piadas.\n",
    "\n",
    "* **Arquivos**\n",
    "\n",
    "    *   train.csv - arquivo destinano para treino e teste.\n",
    "    *   test.csv - arquivo que será usado para criar o submission.csv, e enviaremos as previsões do modelo."
   ]
  },
  {
   "cell_type": "code",
   "execution_count": 6,
   "metadata": {},
   "outputs": [],
   "source": [
    "# Importando dados\n",
    "dados = pd.read_csv(\"dados/train.csv\")\n",
    "valid = pd. read_csv(\"dados/test.csv\")\n",
    "jokes = pd.read_csv(\"dados/jokes.csv\")"
   ]
  },
  {
   "cell_type": "code",
   "execution_count": 7,
   "metadata": {},
   "outputs": [
    {
     "data": {
      "text/html": [
       "<div>\n",
       "<style scoped>\n",
       "    .dataframe tbody tr th:only-of-type {\n",
       "        vertical-align: middle;\n",
       "    }\n",
       "\n",
       "    .dataframe tbody tr th {\n",
       "        vertical-align: top;\n",
       "    }\n",
       "\n",
       "    .dataframe thead th {\n",
       "        text-align: right;\n",
       "    }\n",
       "</style>\n",
       "<table border=\"1\" class=\"dataframe\">\n",
       "  <thead>\n",
       "    <tr style=\"text-align: right;\">\n",
       "      <th></th>\n",
       "      <th>id</th>\n",
       "      <th>user_id</th>\n",
       "      <th>joke_id</th>\n",
       "      <th>Rating</th>\n",
       "    </tr>\n",
       "  </thead>\n",
       "  <tbody>\n",
       "    <tr>\n",
       "      <th>0</th>\n",
       "      <td>31030_110</td>\n",
       "      <td>31030</td>\n",
       "      <td>110</td>\n",
       "      <td>2.750</td>\n",
       "    </tr>\n",
       "    <tr>\n",
       "      <th>1</th>\n",
       "      <td>16144_109</td>\n",
       "      <td>16144</td>\n",
       "      <td>109</td>\n",
       "      <td>5.094</td>\n",
       "    </tr>\n",
       "    <tr>\n",
       "      <th>2</th>\n",
       "      <td>23098_6</td>\n",
       "      <td>23098</td>\n",
       "      <td>6</td>\n",
       "      <td>-6.438</td>\n",
       "    </tr>\n",
       "    <tr>\n",
       "      <th>3</th>\n",
       "      <td>14273_86</td>\n",
       "      <td>14273</td>\n",
       "      <td>86</td>\n",
       "      <td>4.406</td>\n",
       "    </tr>\n",
       "    <tr>\n",
       "      <th>4</th>\n",
       "      <td>18419_134</td>\n",
       "      <td>18419</td>\n",
       "      <td>134</td>\n",
       "      <td>9.375</td>\n",
       "    </tr>\n",
       "  </tbody>\n",
       "</table>\n",
       "</div>"
      ],
      "text/plain": [
       "          id  user_id  joke_id  Rating\n",
       "0  31030_110    31030      110   2.750\n",
       "1  16144_109    16144      109   5.094\n",
       "2    23098_6    23098        6  -6.438\n",
       "3   14273_86    14273       86   4.406\n",
       "4  18419_134    18419      134   9.375"
      ]
     },
     "execution_count": 7,
     "metadata": {},
     "output_type": "execute_result"
    }
   ],
   "source": [
    "# Dataset de treino.\n",
    "dados.head()"
   ]
  },
  {
   "cell_type": "code",
   "execution_count": 8,
   "metadata": {},
   "outputs": [
    {
     "data": {
      "text/html": [
       "<div>\n",
       "<style scoped>\n",
       "    .dataframe tbody tr th:only-of-type {\n",
       "        vertical-align: middle;\n",
       "    }\n",
       "\n",
       "    .dataframe tbody tr th {\n",
       "        vertical-align: top;\n",
       "    }\n",
       "\n",
       "    .dataframe thead th {\n",
       "        text-align: right;\n",
       "    }\n",
       "</style>\n",
       "<table border=\"1\" class=\"dataframe\">\n",
       "  <thead>\n",
       "    <tr style=\"text-align: right;\">\n",
       "      <th></th>\n",
       "      <th>id</th>\n",
       "      <th>user_id</th>\n",
       "      <th>joke_id</th>\n",
       "    </tr>\n",
       "  </thead>\n",
       "  <tbody>\n",
       "    <tr>\n",
       "      <th>0</th>\n",
       "      <td>6194_11</td>\n",
       "      <td>6194</td>\n",
       "      <td>11</td>\n",
       "    </tr>\n",
       "    <tr>\n",
       "      <th>1</th>\n",
       "      <td>19356_3</td>\n",
       "      <td>19356</td>\n",
       "      <td>3</td>\n",
       "    </tr>\n",
       "    <tr>\n",
       "      <th>2</th>\n",
       "      <td>23426_79</td>\n",
       "      <td>23426</td>\n",
       "      <td>79</td>\n",
       "    </tr>\n",
       "    <tr>\n",
       "      <th>3</th>\n",
       "      <td>40030_3</td>\n",
       "      <td>40030</td>\n",
       "      <td>3</td>\n",
       "    </tr>\n",
       "    <tr>\n",
       "      <th>4</th>\n",
       "      <td>19806_115</td>\n",
       "      <td>19806</td>\n",
       "      <td>115</td>\n",
       "    </tr>\n",
       "  </tbody>\n",
       "</table>\n",
       "</div>"
      ],
      "text/plain": [
       "          id  user_id  joke_id\n",
       "0    6194_11     6194       11\n",
       "1    19356_3    19356        3\n",
       "2   23426_79    23426       79\n",
       "3    40030_3    40030        3\n",
       "4  19806_115    19806      115"
      ]
     },
     "execution_count": 8,
     "metadata": {},
     "output_type": "execute_result"
    }
   ],
   "source": [
    "# Dataset de teste.\n",
    "valid.head()"
   ]
  },
  {
   "cell_type": "code",
   "execution_count": 9,
   "metadata": {},
   "outputs": [
    {
     "data": {
      "text/plain": [
       "((1092059, 4), (537880, 3))"
      ]
     },
     "execution_count": 9,
     "metadata": {},
     "output_type": "execute_result"
    }
   ],
   "source": [
    "dados.shape, valid.shape"
   ]
  },
  {
   "cell_type": "code",
   "execution_count": 10,
   "metadata": {},
   "outputs": [
    {
     "name": "stdout",
     "output_type": "stream",
     "text": [
      "<class 'pandas.core.frame.DataFrame'>\n",
      "RangeIndex: 1092059 entries, 0 to 1092058\n",
      "Data columns (total 4 columns):\n",
      " #   Column   Non-Null Count    Dtype  \n",
      "---  ------   --------------    -----  \n",
      " 0   id       1092059 non-null  object \n",
      " 1   user_id  1092059 non-null  int64  \n",
      " 2   joke_id  1092059 non-null  int64  \n",
      " 3   Rating   1092059 non-null  float64\n",
      "dtypes: float64(1), int64(2), object(1)\n",
      "memory usage: 33.3+ MB\n"
     ]
    }
   ],
   "source": [
    "# Verificando algumas informações do nosso dataset.\n",
    "dados.info()"
   ]
  },
  {
   "cell_type": "markdown",
   "metadata": {},
   "source": [
    "Podemos verificar que nossa variável alvo(target), já assume um valor do tipo numérico, e não encontramos valores ausentes em nosso dataset."
   ]
  },
  {
   "cell_type": "markdown",
   "metadata": {},
   "source": [
    "## Estátisticas\n",
    "Aqui vamos verificar algumas medidas de posisão e dispersão...."
   ]
  },
  {
   "cell_type": "code",
   "execution_count": 11,
   "metadata": {},
   "outputs": [
    {
     "name": "stdout",
     "output_type": "stream",
     "text": [
      "Média Rating: 1.7583939732193956\n",
      "Desvio Padrão Rating: 5.2308597557955006\n",
      "Valor Min. Rating: -10.0\n",
      "Valor Max. Rating: 10.0\n"
     ]
    }
   ],
   "source": [
    "# Média, desvio padrão amostral e variança amostral da feature Rating\n",
    "print(\"Média Rating:\", mean(dados.Rating))\n",
    "print(\"Desvio Padrão Rating:\", stdev(dados.Rating))\n",
    "print(\"Valor Min. Rating:\", min(dados.Rating))\n",
    "print(\"Valor Max. Rating:\", max(dados.Rating))"
   ]
  },
  {
   "cell_type": "code",
   "execution_count": 12,
   "metadata": {},
   "outputs": [
    {
     "data": {
      "image/png": "[encoded data removed]",
      "text/plain": [
       "<Figure size 600x400 with 1 Axes>"
      ]
     },
     "metadata": {},
     "output_type": "display_data"
    }
   ],
   "source": [
    "# Histograma da nossa variável alvo Rating.\n",
    "plt.figure(figsize=(6, 4))\n",
    "plt.hist(dados.Rating, density=True, edgecolor=\"black\")\n",
    "plt.title(\"Histogram\", fontweight=\"bold\", fontsize=14)\n",
    "plt.xlabel(\"Rating\")\n",
    "plt.ylabel(\"Probability\")\n",
    "plt.axvline(dados.Rating.mean(), color=\"red\", linestyle=\"--\")\n",
    "plt.axvline(dados.Rating.median(), color=\"blue\", linestyle=\"--\")\n",
    "plt.legend(title=\"\", labels=[\"Média\",\"Mediana\"], ncol=1, loc=\"best\")\n",
    "#plt.spines['right'].set_visible(False)\n",
    "#plt.spines['top'].set_visible(False)\n",
    "plt.show()"
   ]
  },
  {
   "cell_type": "code",
   "execution_count": 99,
   "metadata": {},
   "outputs": [
    {
     "name": "stdout",
     "output_type": "stream",
     "text": [
      "ShapiroResult(statistic=0.9625284671783447, pvalue=0.0)\n"
     ]
    }
   ],
   "source": [
    "# Realisando teste de Shapiro-Wilk, onde verificamos se às variáveis segue uma distribuição normal.\n",
    "print(stats.shapiro(dados.Rating))"
   ]
  },
  {
   "cell_type": "markdown",
   "metadata": {},
   "source": [
    "Com nosso histograma e o teste de Shapiro Wilk podemos verificar que nosso alvo não segue uma distribuição normal. Para o teste realizado temos um p-value menor que 0.05, com intervalo de confiança de 95% e meu alfa de 5%, devo rejeita minha hipótese nula (H0) de que a variável Rating seguem uma distribuição normal e aceita a hipótese alternativa (Ha) de que meus dados não tem uma distribuição normal."
   ]
  },
  {
   "cell_type": "markdown",
   "metadata": {},
   "source": [
    "# Tratamento dos Dados\n",
    "Nesta seção realizamos procedimentos como feature scaling, feature engineer, select feature entre outros, tudo isso a fim de encontrarmos um padão nos dados. Iremos utilizar alguns desses recursos de acordo com o desenvolvimento e resultados que vamos obtendo."
   ]
  },
  {
   "attachments": {},
   "cell_type": "markdown",
   "metadata": {},
   "source": [
    "## Split dos Dados\n",
    "Neste caso vou dar preferência por utilizar Hod-Out, para realizar o split em uma proporção de 80% para treino e 20% para teste."
   ]
  },
  {
   "cell_type": "code",
   "execution_count": 80,
   "metadata": {},
   "outputs": [],
   "source": [
    "# Realizando split dos dados entre treino e teste.\n",
    "reader = Reader(rating_scale=(-10., 10.))\n",
    "data = Dataset.load_from_df(dados[[\"user_id\", \"joke_id\", \"Rating\"]], reader)\n",
    "X_train, X_test = train_test_split(data, test_size=0.2, random_state=0)"
   ]
  },
  {
   "attachments": {},
   "cell_type": "markdown",
   "metadata": {},
   "source": [
    "# Modelos\n",
    "Utilizando à biblioteca [_**Surprise**_](https://surpriselib.com/), irei cria alguns modelos utilizando **SVD** _(Singular Value Decomposition)_, _Filtragem Colaborativa_."
   ]
  },
  {
   "cell_type": "markdown",
   "metadata": {},
   "source": [
    "A Filtragem Colaborativa ignora as características do conteúdo e foca na interação entre o Usuário X Conteúdo. Parte do princípio que o sistema não precisa saber as características do conteúdo, mas sim quais conteúdos o usuário consumiu para identificar quais outros usuários tiveram o mesmo comportamento de consumo. Dessa forma é possível “trocar” recomendações entre usuários semelhantes ao processar o coletivo.\n",
    "\n",
    "<div align=\"center\">\n",
    "\n",
    "![hou](https://miro.medium.com/v2/resize:fit:638/format:webp/0*e3_p3-HIh8DCin4m)\n",
    "\n",
    "</div>\n",
    "\n",
    "O **SVD** realiza a fatoração de matrizes, isso pode ser um problema quando temos muitos dados, pois às matrizes seram muito esparsas, isso resultarar em custo computacional muito alto levando muito tempo de processamento. Mas vamos em frente....\n",
    "\n",
    "$$\n",
    "\\begin{align} \n",
    "\\hat r_i = \\mu + b_u + b_i + q_i^T p_u\n",
    "\\end{align}\n",
    "$$"
   ]
  },
  {
   "cell_type": "markdown",
   "metadata": {},
   "source": [
    "## Modelo inicial\n",
    "Crindo modelo utilizando parâmetros default, vamos obter nossa RMSE e trabalhar para melhorar nossa métrica."
   ]
  },
  {
   "cell_type": "code",
   "execution_count": 74,
   "metadata": {},
   "outputs": [
    {
     "data": {
      "text/plain": [
       "4.2825453692"
      ]
     },
     "execution_count": 74,
     "metadata": {},
     "output_type": "execute_result"
    }
   ],
   "source": [
    "# Criando modelo.    \n",
    "model_svd = SVD()\n",
    "# Treinando o modelo.\n",
    "model_svd.fit(X_train)\n",
    "# Realizando previsões.\n",
    "predic = model_svd.test(X_test)\n",
    "\n",
    "round(accuracy.rmse(predic, verbose=False),10)"
   ]
  },
  {
   "cell_type": "markdown",
   "metadata": {},
   "source": [
    "Primeira tentativa treinamos o modelo sem trabalhar parâmetros, hiperparâmetros ou qualquer técnica, o default mesmo."
   ]
  },
  {
   "cell_type": "code",
   "execution_count": 75,
   "metadata": {},
   "outputs": [
    {
     "name": "stdout",
     "output_type": "stream",
     "text": [
      "Melhor resultado: (4.2755483293, 40)\n"
     ]
    }
   ],
   "source": [
    "# Trabalhando com aleatoriedade, criar um modelo e treina-lo por n vezes onde vamos \n",
    "# trocar a rando_state, usando numeros pares até sed 100, e ober a melhor sed.\n",
    "mrmse = []\n",
    "\n",
    "for rand_sed in range(2,61,2):\n",
    "    # Criando modelo.\n",
    "    model_svd = SVD(random_state=rand_sed)\n",
    "    # Treinando o modelo.\n",
    "    model_svd.fit(X_train)\n",
    "    # Realizando previsões.\n",
    "    predic = model_svd.test(X_test)\n",
    "    result = round(accuracy.rmse(predic, verbose=False),10)\n",
    "    mrmse.append((result, rand_sed))\n",
    "\n",
    "print('Melhor resultado:', min(mrmse))"
   ]
  },
  {
   "cell_type": "markdown",
   "metadata": {},
   "source": [
    "Nesta tentativa já utilizando alguma técnica, nesse caso trabalhei à aleatoriedade e já obtivemos um melhor resultado, uma RMSE de 4.2755 com uma sed 40. "
   ]
  },
  {
   "attachments": {},
   "cell_type": "markdown",
   "metadata": {},
   "source": [
    "# Otimização do Modelo\n",
    "Utilizando [**scikit-optimize**](https://scikit-optimize.github.io/stable/index.html) Bayesian optimization, na tentativa de otimizar o modelo, tuning dos hiperparâmetros."
   ]
  },
  {
   "cell_type": "code",
   "execution_count": 83,
   "metadata": {},
   "outputs": [],
   "source": [
    "# Parâmetros usados pela nossa função de otimização, que serão passados para o modelo.\n",
    "space = [\n",
    "    Integer(500, 650, name=\"n_factors\"),\n",
    "    Integer(100, 250, name=\"n_epochs\"),\n",
    "    Real(1e-3, 1e-1, \"log-uniform\", name=\"lr_bu\"),\n",
    "    Real(1e-3, 1e-1, \"log-uniform\", name=\"lr_bi\"),\n",
    "    Real(1e-3, 1e-1, \"log-uniform\", name=\"lr_pu\"),\n",
    "    Real(1e-3, 1e-1, \"log-uniform\", name=\"lr_qi\"),\n",
    "    Real(1e-3, 1e-1, \"log-uniform\", name=\"reg_bu\"),\n",
    "    Real(1e-3, 1e-1, \"log-uniform\", name=\"reg_bi\"),\n",
    "    Real(1e-3, 1e-1, \"log-uniform\", name=\"reg_pu\"),\n",
    "    Real(1e-3, 1e-1, \"log-uniform\", name=\"reg_qi\")\n",
    "]\n",
    "\n",
    "@use_named_args(space)\n",
    "def svd_bayesian(**params):\n",
    "    \"\"\" \n",
    "    Função para criação do modelo que recebe os parâmetros (lr_bu, lr_bi, lr_pu, lr_qi, reg_bu, reg_bi, reg_pu e reg_qi), \n",
    "    por meio da função de otimização.\n",
    "    \"\"\"\n",
    "    model_svd = SVD(**params, verbose=False, random_state=10)\n",
    "    model_svd.fit(X_train)\n",
    "    predic = model_svd.test(X_test)\n",
    "    result = round(accuracy.rmse(predic), 10)\n",
    "\n",
    "    return result"
   ]
  },
  {
   "cell_type": "code",
   "execution_count": 84,
   "metadata": {},
   "outputs": [
    {
     "name": "stdout",
     "output_type": "stream",
     "text": [
      "RMSE: 4.0566\n",
      "RMSE: 4.1420\n",
      "RMSE: 4.0271\n",
      "RMSE: 4.1275\n",
      "RMSE: 4.1607\n",
      "RMSE: 4.0515\n",
      "RMSE: 9.7514\n",
      "RMSE: 4.1685\n",
      "RMSE: 4.0465\n",
      "RMSE: 4.0128\n",
      "RMSE: 4.1206\n",
      "RMSE: 4.1155\n",
      "RMSE: 4.0424\n",
      "RMSE: 4.0855\n",
      "RMSE: 4.0439\n",
      "\n",
      "\n",
      "Best RMSE: 4.0128003969\n",
      "Best Parameters: [596, 180, 0.1, 0.0017002075549700914, 0.060833357287746435, 0.001, 0.005828169714153822, 0.001225388190176047, 0.0012775443300217363, 0.1]\n"
     ]
    }
   ],
   "source": [
    "# Função de Otimização.\n",
    "res_gp = gp_minimize(\n",
    "    func=svd_bayesian, \n",
    "    dimensions=space,\n",
    "    n_initial_points=5, \n",
    "    n_calls=15,\n",
    "    verbose=False, \n",
    "    random_state=10\n",
    ")\n",
    "\n",
    "print('\\n')\n",
    "print('Best RMSE: %.10f' % (res_gp.fun)) \n",
    "print('Best Parameters: %s' % (res_gp.x))"
   ]
  },
  {
   "cell_type": "code",
   "execution_count": 85,
   "metadata": {},
   "outputs": [
    {
     "data": {
      "image/png": "[encoded data removed]",
      "text/plain": [
       "<Figure size 640x480 with 1 Axes>"
      ]
     },
     "metadata": {},
     "output_type": "display_data"
    }
   ],
   "source": [
    "fig, ax = plt.subplots()\n",
    "plot_convergence(res_gp)\n",
    "ax.spines['top'].set_visible(False)\n",
    "ax.spines['right'].set_visible(False)\n",
    "ax.grid(False)\n",
    "plt.show()"
   ]
  },
  {
   "cell_type": "markdown",
   "metadata": {},
   "source": [
    "Com o gráfico podemos observar que na execução 10 em diante não conseguimos ganhos siguinificativos. "
   ]
  },
  {
   "attachments": {},
   "cell_type": "markdown",
   "metadata": {},
   "source": [
    "## Cross-Validation\n",
    "Crindo o modelo com os hiperparâmetros encontrados pela função de otimização **gp_minimize**, para realizar Cross-Validation, após várias execuções estes foram os hiperparâmetros com melhor resultado."
   ]
  },
  {
   "cell_type": "code",
   "execution_count": 92,
   "metadata": {},
   "outputs": [
    {
     "data": {
      "text/plain": [
       "4.0125360492"
      ]
     },
     "execution_count": 92,
     "metadata": {},
     "output_type": "execute_result"
    }
   ],
   "source": [
    "# Criando modelo.    \n",
    "model_svd = SVD(\n",
    "    n_factors=500,\n",
    "    n_epochs=238,\n",
    "    lr_bu=0.036486316612493984,\n",
    "    lr_bi=0.001,\n",
    "    lr_pu=0.05272355080621753,\n",
    "    lr_qi=0.0013008168848494819,\n",
    "    reg_bu=0.001,\n",
    "    reg_bi=0.0012862491471839173,\n",
    "    reg_pu=0.001,\n",
    "    reg_qi=0.0757888905856779,\n",
    "    random_state=10\n",
    ")\n",
    "model_svd.fit(X_train)\n",
    "predic = model_svd.test(X_test)\n",
    "\n",
    "round(accuracy.rmse(predic, verbose=False),10)"
   ]
  },
  {
   "cell_type": "code",
   "execution_count": 93,
   "metadata": {},
   "outputs": [],
   "source": [
    "mrmse = []\n",
    "kfold = 0\n",
    "kf = KFold(n_splits=50, random_state=10)"
   ]
  },
  {
   "cell_type": "code",
   "execution_count": 94,
   "metadata": {},
   "outputs": [
    {
     "name": "stdout",
     "output_type": "stream",
     "text": [
      "Fold: 1 RMSE: 4.0104065999\n",
      "Fold: 2 RMSE: 3.9917042982\n",
      "Fold: 3 RMSE: 3.9704787179\n",
      "Fold: 4 RMSE: 3.9835107152\n",
      "Fold: 5 RMSE: 3.9686864282\n",
      "Fold: 6 RMSE: 3.9673279231\n",
      "Fold: 7 RMSE: 3.9553324196\n",
      "Fold: 8 RMSE: 3.9553042203\n",
      "Fold: 9 RMSE: 3.9850496718\n",
      "Fold: 10 RMSE: 3.9672842253\n",
      "Fold: 11 RMSE: 4.0101036394\n",
      "Fold: 12 RMSE: 3.9433609822\n",
      "Fold: 13 RMSE: 3.9726168409\n",
      "Fold: 14 RMSE: 3.9693719892\n",
      "Fold: 15 RMSE: 3.9667936264\n",
      "Fold: 16 RMSE: 4.0079733217\n",
      "Fold: 17 RMSE: 3.9918671217\n",
      "Fold: 18 RMSE: 3.9837636038\n",
      "Fold: 19 RMSE: 4.0195435416\n",
      "Fold: 20 RMSE: 3.9732015076\n",
      "Fold: 21 RMSE: 3.9655615259\n",
      "Fold: 22 RMSE: 3.9492067023\n",
      "Fold: 23 RMSE: 4.002059642\n",
      "Fold: 24 RMSE: 3.9336401516\n",
      "Fold: 25 RMSE: 3.9959853109\n",
      "Fold: 26 RMSE: 4.0092616192\n",
      "Fold: 27 RMSE: 4.0097371169\n",
      "Fold: 28 RMSE: 3.9869084831\n",
      "Fold: 29 RMSE: 4.0055975596\n",
      "Fold: 30 RMSE: 3.9642241581\n",
      "Fold: 31 RMSE: 3.9654077376\n",
      "Fold: 32 RMSE: 3.9965907677\n",
      "Fold: 33 RMSE: 3.9760326663\n",
      "Fold: 34 RMSE: 3.98695124\n",
      "Fold: 35 RMSE: 4.0124308998\n",
      "Fold: 36 RMSE: 3.9793272432\n",
      "Fold: 37 RMSE: 4.0136924288\n",
      "Fold: 38 RMSE: 4.0033812023\n",
      "Fold: 39 RMSE: 3.9524193946\n",
      "Fold: 40 RMSE: 4.0026360786\n",
      "Fold: 41 RMSE: 3.9625913184\n",
      "Fold: 42 RMSE: 3.9861906161\n",
      "Fold: 43 RMSE: 4.0208296404\n",
      "Fold: 44 RMSE: 3.9393332016\n",
      "Fold: 45 RMSE: 3.99125682\n",
      "Fold: 46 RMSE: 3.9324434544\n",
      "Fold: 47 RMSE: 3.9796138871\n",
      "Fold: 48 RMSE: 3.9890512051\n",
      "Fold: 49 RMSE: 3.9886306334\n",
      "Fold: 50 RMSE: 3.9945709653\n",
      "Média RMSE CV 3.981784901286\n"
     ]
    }
   ],
   "source": [
    "# Realizando cross-validation.\n",
    "for trainset, testset in kf.split(data):\n",
    "    model_svd.fit(trainset)\n",
    "    predic = model_svd.test(testset)\n",
    "    result = round(accuracy.rmse(predic, verbose=False),10)\n",
    "    mrmse.append(result)\n",
    "    kfold += 1\n",
    "    print(\"Fold:\", kfold, \"RMSE:\", result)\n",
    "    \n",
    "print(\"Média RMSE CV\", mean(mrmse))"
   ]
  },
  {
   "cell_type": "markdown",
   "metadata": {},
   "source": [
    "Nossa RMSE da média de nossa cross-validation foi de 3.981784901286, este é nosso resultado final, para nosso submission."
   ]
  },
  {
   "cell_type": "code",
   "execution_count": 65,
   "metadata": {},
   "outputs": [],
   "source": [
    "@use_named_args(space)\n",
    "def svd_bayesian_cv(**params):\n",
    "    \"\"\" \n",
    "    \n",
    "    \"\"\"\n",
    "    kfold = 0\n",
    "    mrmse.clear()\n",
    "    model_svd_cv_gp = SVD(**params, verbose=False, random_state=10)\n",
    "\n",
    "    for trainset, testset in kf.split(data):\n",
    "        model_svd_cv_gp.fit(trainset)\n",
    "        predic = model_svd_cv_gp.test(testset)\n",
    "        result = round(accuracy.rmse(predic, verbose=False),10)\n",
    "        mrmse.append(result)\n",
    "        kfold += 1\n",
    "        print(\"Fold:\", kfold, \"RMSE:\", result)\n",
    "    \n",
    "    print(\"Média RMSE CV\", mean(mrmse), \"\\n\")\n",
    "    return min(mrmse)"
   ]
  },
  {
   "cell_type": "code",
   "execution_count": null,
   "metadata": {},
   "outputs": [],
   "source": [
    "# Gaussian processes\n",
    "res_gp_cv = gp_minimize(\n",
    "    func=svd_bayesian_cv, \n",
    "    dimensions=space,\n",
    "    n_initial_points=5, \n",
    "    n_calls=5,\n",
    "    verbose=False, \n",
    "    random_state=10\n",
    ")\n",
    "\n",
    "print('Best RMSE: %.10f' % (res_gp_cv.fun)) \n",
    "print('Best Parameters: %s' % (res_gp_cv.x))"
   ]
  },
  {
   "cell_type": "markdown",
   "metadata": {},
   "source": [
    "## Submission\n",
    "Realizando predição para envio (submission)."
   ]
  },
  {
   "cell_type": "code",
   "execution_count": 96,
   "metadata": {},
   "outputs": [
    {
     "name": "stderr",
     "output_type": "stream",
     "text": [
      "100%|██████████| 537880/537880 [01:31<00:00, 5891.54it/s]\n"
     ]
    }
   ],
   "source": [
    "# Realizando predição com dados de validação, para submission.\n",
    "pred = []\n",
    "\n",
    "for i in trange(valid.shape[0]):\n",
    "    pred.append((valid.iloc[i, 0], model_svd.predict(valid.iloc[i, 1], valid.iloc[i, 2])[3]))"
   ]
  },
  {
   "cell_type": "code",
   "execution_count": 97,
   "metadata": {},
   "outputs": [],
   "source": [
    "# Gerando CSV submission.\n",
    "sub = pd.DataFrame(pred, columns=[\"id\", \"Rating\"])\n",
    "sub.to_csv(\"submission.csv\", index=False)"
   ]
  }
 ],
 "metadata": {
  "kernelspec": {
   "display_name": ".venv",
   "language": "python",
   "name": "python3"
  },
  "language_info": {
   "codemirror_mode": {
    "name": "ipython",
    "version": 3
   },
   "file_extension": ".py",
   "mimetype": "text/x-python",
   "name": "python",
   "nbconvert_exporter": "python",
   "pygments_lexer": "ipython3",
   "version": "3.9.16"
  },
  "orig_nbformat": 4,
  "vscode": {
   "interpreter": {
    "hash": "28881db74f895a016a5860811887b8fae75355e37edf4c7862c6a058fba3f87d"
   }
  }
 },
 "nbformat": 4,
 "nbformat_minor": 2
}
