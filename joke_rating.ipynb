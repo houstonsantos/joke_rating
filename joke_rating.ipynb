{
 "cells": [
  {
   "cell_type": "code",
   "execution_count": 1,
   "metadata": {},
   "outputs": [],
   "source": [
    "import pandas as pd\n",
    "import numpy as np\n",
    "import seaborn as sb\n",
    "import matplotlib.pyplot as plt\n",
    "\n",
    "from sklearn.svm import SVR\n",
    "from skopt import gp_minimize\n",
    "from xgboost import XGBRegressor\n",
    "from skopt.plots import plot_convergence\n",
    "from bayes_opt import BayesianOptimization\n",
    "from sklearn.preprocessing import MinMaxScaler\n",
    "from sklearn.metrics import mean_squared_error\n",
    "from sklearn.linear_model import LinearRegression\n",
    "from sklearn.model_selection import train_test_split"
   ]
  },
  {
   "cell_type": "markdown",
   "metadata": {},
   "source": [
    "## Exploratory Analysis"
   ]
  },
  {
   "cell_type": "code",
   "execution_count": 2,
   "metadata": {},
   "outputs": [
    {
     "name": "stdout",
     "output_type": "stream",
     "text": [
      "Train (1092059, 4)\n",
      "Test (537880, 3)\n"
     ]
    }
   ],
   "source": [
    "# Import of taining and test data\n",
    "train = pd.read_csv(\"dados/train.csv\")\n",
    "test = pd. read_csv(\"dados/test.csv\")\n",
    "print(\"Train \" + str(train.shape))\n",
    "print(\"Test \" + str(test.shape))"
   ]
  },
  {
   "cell_type": "code",
   "execution_count": 3,
   "metadata": {},
   "outputs": [
    {
     "data": {
      "text/html": [
       "<div>\n",
       "<style scoped>\n",
       "    .dataframe tbody tr th:only-of-type {\n",
       "        vertical-align: middle;\n",
       "    }\n",
       "\n",
       "    .dataframe tbody tr th {\n",
       "        vertical-align: top;\n",
       "    }\n",
       "\n",
       "    .dataframe thead th {\n",
       "        text-align: right;\n",
       "    }\n",
       "</style>\n",
       "<table border=\"1\" class=\"dataframe\">\n",
       "  <thead>\n",
       "    <tr style=\"text-align: right;\">\n",
       "      <th></th>\n",
       "      <th>id</th>\n",
       "      <th>user_id</th>\n",
       "      <th>joke_id</th>\n",
       "      <th>Rating</th>\n",
       "    </tr>\n",
       "  </thead>\n",
       "  <tbody>\n",
       "    <tr>\n",
       "      <th>0</th>\n",
       "      <td>31030_110</td>\n",
       "      <td>31030</td>\n",
       "      <td>110</td>\n",
       "      <td>2.750</td>\n",
       "    </tr>\n",
       "    <tr>\n",
       "      <th>1</th>\n",
       "      <td>16144_109</td>\n",
       "      <td>16144</td>\n",
       "      <td>109</td>\n",
       "      <td>5.094</td>\n",
       "    </tr>\n",
       "    <tr>\n",
       "      <th>2</th>\n",
       "      <td>23098_6</td>\n",
       "      <td>23098</td>\n",
       "      <td>6</td>\n",
       "      <td>-6.438</td>\n",
       "    </tr>\n",
       "    <tr>\n",
       "      <th>3</th>\n",
       "      <td>14273_86</td>\n",
       "      <td>14273</td>\n",
       "      <td>86</td>\n",
       "      <td>4.406</td>\n",
       "    </tr>\n",
       "    <tr>\n",
       "      <th>4</th>\n",
       "      <td>18419_134</td>\n",
       "      <td>18419</td>\n",
       "      <td>134</td>\n",
       "      <td>9.375</td>\n",
       "    </tr>\n",
       "    <tr>\n",
       "      <th>5</th>\n",
       "      <td>5782_14</td>\n",
       "      <td>5782</td>\n",
       "      <td>14</td>\n",
       "      <td>-1.781</td>\n",
       "    </tr>\n",
       "    <tr>\n",
       "      <th>6</th>\n",
       "      <td>34059_62</td>\n",
       "      <td>34059</td>\n",
       "      <td>62</td>\n",
       "      <td>6.250</td>\n",
       "    </tr>\n",
       "    <tr>\n",
       "      <th>7</th>\n",
       "      <td>1159_9</td>\n",
       "      <td>1159</td>\n",
       "      <td>9</td>\n",
       "      <td>-2.906</td>\n",
       "    </tr>\n",
       "    <tr>\n",
       "      <th>8</th>\n",
       "      <td>17736_32</td>\n",
       "      <td>17736</td>\n",
       "      <td>32</td>\n",
       "      <td>-5.750</td>\n",
       "    </tr>\n",
       "    <tr>\n",
       "      <th>9</th>\n",
       "      <td>22626_22</td>\n",
       "      <td>22626</td>\n",
       "      <td>22</td>\n",
       "      <td>1.656</td>\n",
       "    </tr>\n",
       "    <tr>\n",
       "      <th>10</th>\n",
       "      <td>6610_96</td>\n",
       "      <td>6610</td>\n",
       "      <td>96</td>\n",
       "      <td>1.656</td>\n",
       "    </tr>\n",
       "    <tr>\n",
       "      <th>11</th>\n",
       "      <td>18725_13</td>\n",
       "      <td>18725</td>\n",
       "      <td>13</td>\n",
       "      <td>0.688</td>\n",
       "    </tr>\n",
       "    <tr>\n",
       "      <th>12</th>\n",
       "      <td>23340_130</td>\n",
       "      <td>23340</td>\n",
       "      <td>130</td>\n",
       "      <td>1.312</td>\n",
       "    </tr>\n",
       "    <tr>\n",
       "      <th>13</th>\n",
       "      <td>6966_76</td>\n",
       "      <td>6966</td>\n",
       "      <td>76</td>\n",
       "      <td>6.031</td>\n",
       "    </tr>\n",
       "    <tr>\n",
       "      <th>14</th>\n",
       "      <td>2538_83</td>\n",
       "      <td>2538</td>\n",
       "      <td>83</td>\n",
       "      <td>9.781</td>\n",
       "    </tr>\n",
       "  </tbody>\n",
       "</table>\n",
       "</div>"
      ],
      "text/plain": [
       "           id  user_id  joke_id  Rating\n",
       "0   31030_110    31030      110   2.750\n",
       "1   16144_109    16144      109   5.094\n",
       "2     23098_6    23098        6  -6.438\n",
       "3    14273_86    14273       86   4.406\n",
       "4   18419_134    18419      134   9.375\n",
       "5     5782_14     5782       14  -1.781\n",
       "6    34059_62    34059       62   6.250\n",
       "7      1159_9     1159        9  -2.906\n",
       "8    17736_32    17736       32  -5.750\n",
       "9    22626_22    22626       22   1.656\n",
       "10    6610_96     6610       96   1.656\n",
       "11   18725_13    18725       13   0.688\n",
       "12  23340_130    23340      130   1.312\n",
       "13    6966_76     6966       76   6.031\n",
       "14    2538_83     2538       83   9.781"
      ]
     },
     "execution_count": 3,
     "metadata": {},
     "output_type": "execute_result"
    }
   ],
   "source": [
    "train.head(15)"
   ]
  },
  {
   "cell_type": "code",
   "execution_count": 4,
   "metadata": {},
   "outputs": [
    {
     "name": "stdout",
     "output_type": "stream",
     "text": [
      "<class 'pandas.core.frame.DataFrame'>\n",
      "RangeIndex: 1092059 entries, 0 to 1092058\n",
      "Data columns (total 4 columns):\n",
      " #   Column   Non-Null Count    Dtype  \n",
      "---  ------   --------------    -----  \n",
      " 0   id       1092059 non-null  object \n",
      " 1   user_id  1092059 non-null  int64  \n",
      " 2   joke_id  1092059 non-null  int64  \n",
      " 3   Rating   1092059 non-null  float64\n",
      "dtypes: float64(1), int64(2), object(1)\n",
      "memory usage: 33.3+ MB\n"
     ]
    }
   ],
   "source": [
    "train.info()"
   ]
  },
  {
   "cell_type": "code",
   "execution_count": 5,
   "metadata": {},
   "outputs": [
    {
     "data": {
      "text/html": [
       "<div>\n",
       "<style scoped>\n",
       "    .dataframe tbody tr th:only-of-type {\n",
       "        vertical-align: middle;\n",
       "    }\n",
       "\n",
       "    .dataframe tbody tr th {\n",
       "        vertical-align: top;\n",
       "    }\n",
       "\n",
       "    .dataframe thead th {\n",
       "        text-align: right;\n",
       "    }\n",
       "</style>\n",
       "<table border=\"1\" class=\"dataframe\">\n",
       "  <thead>\n",
       "    <tr style=\"text-align: right;\">\n",
       "      <th></th>\n",
       "      <th>joke_id</th>\n",
       "      <th>Rating</th>\n",
       "      <th>user_id</th>\n",
       "      <th>id</th>\n",
       "    </tr>\n",
       "  </thead>\n",
       "  <tbody>\n",
       "    <tr>\n",
       "      <th>0</th>\n",
       "      <td>139</td>\n",
       "      <td>641</td>\n",
       "      <td>40863</td>\n",
       "      <td>1092059</td>\n",
       "    </tr>\n",
       "  </tbody>\n",
       "</table>\n",
       "</div>"
      ],
      "text/plain": [
       "   joke_id  Rating  user_id       id\n",
       "0      139     641    40863  1092059"
      ]
     },
     "execution_count": 5,
     "metadata": {},
     "output_type": "execute_result"
    }
   ],
   "source": [
    "# Cheching uniqueness of data\n",
    "train.select_dtypes([\"int64\", \"float64\", \"object\"]).nunique().sort_values().to_frame().T"
   ]
  },
  {
   "cell_type": "code",
   "execution_count": null,
   "metadata": {},
   "outputs": [],
   "source": [
    "# Correlation of variables\n",
    "cmap = sb.diverging_palette(0, 230, 90, 60, as_cmap=True)\n",
    "sb.heatmap(train.corr(), annot=True, cmap=cmap, square=True)\n",
    "plt.title(\"Coorelação\", fontsize=16)\n",
    "plt.show()"
   ]
  },
  {
   "cell_type": "code",
   "execution_count": 6,
   "metadata": {},
   "outputs": [
    {
     "data": {
      "image/png": "[encoded data removed]",
      "text/plain": [
       "<Figure size 576x432 with 1 Axes>"
      ]
     },
     "metadata": {
      "needs_background": "light"
     },
     "output_type": "display_data"
    }
   ],
   "source": [
    "plt.figure(figsize=(8, 6))\n",
    "plt.xlabel(\"Rating\")\n",
    "plt.ylabel(\"Probability\")\n",
    "plt.title(\"Histogram\", fontweight=\"bold\", fontsize=14)\n",
    "plt.hist(train.Rating, edgecolor=\"black\")\n",
    "plt.axvline(train.Rating.mean(), color=\"red\", linestyle=\"--\")\n",
    "plt.axvline(train.Rating.median(), color=\"blue\", linestyle=\"--\")\n",
    "plt.legend(title=\"\", labels=[\"Média\",\"Mediana\"], ncol=1, loc=\"best\")\n",
    "plt.show()"
   ]
  },
  {
   "cell_type": "markdown",
   "metadata": {},
   "source": [
    "## Data Pre-Processing"
   ]
  },
  {
   "cell_type": "code",
   "execution_count": 7,
   "metadata": {},
   "outputs": [],
   "source": [
    "# Removendo caracter e convertendo feature\n",
    "train[\"id\"] = train[\"id\"].apply(lambda x: str(x).replace(str(\"_\"), \"\")).astype(\"int64\")\n",
    "test[\"id\"] = test[\"id\"].apply(lambda x: str(x).replace(str(\"_\"), \"\")).astype(\"int64\")"
   ]
  },
  {
   "cell_type": "code",
   "execution_count": 8,
   "metadata": {},
   "outputs": [
    {
     "data": {
      "text/html": [
       "<div>\n",
       "<style scoped>\n",
       "    .dataframe tbody tr th:only-of-type {\n",
       "        vertical-align: middle;\n",
       "    }\n",
       "\n",
       "    .dataframe tbody tr th {\n",
       "        vertical-align: top;\n",
       "    }\n",
       "\n",
       "    .dataframe thead th {\n",
       "        text-align: right;\n",
       "    }\n",
       "</style>\n",
       "<table border=\"1\" class=\"dataframe\">\n",
       "  <thead>\n",
       "    <tr style=\"text-align: right;\">\n",
       "      <th></th>\n",
       "      <th>id</th>\n",
       "      <th>user_id</th>\n",
       "      <th>joke_id</th>\n",
       "      <th>Rating</th>\n",
       "    </tr>\n",
       "  </thead>\n",
       "  <tbody>\n",
       "    <tr>\n",
       "      <th>0</th>\n",
       "      <td>31030110</td>\n",
       "      <td>31030</td>\n",
       "      <td>110</td>\n",
       "      <td>2.750</td>\n",
       "    </tr>\n",
       "    <tr>\n",
       "      <th>1</th>\n",
       "      <td>16144109</td>\n",
       "      <td>16144</td>\n",
       "      <td>109</td>\n",
       "      <td>5.094</td>\n",
       "    </tr>\n",
       "    <tr>\n",
       "      <th>2</th>\n",
       "      <td>230986</td>\n",
       "      <td>23098</td>\n",
       "      <td>6</td>\n",
       "      <td>-6.438</td>\n",
       "    </tr>\n",
       "    <tr>\n",
       "      <th>3</th>\n",
       "      <td>1427386</td>\n",
       "      <td>14273</td>\n",
       "      <td>86</td>\n",
       "      <td>4.406</td>\n",
       "    </tr>\n",
       "    <tr>\n",
       "      <th>4</th>\n",
       "      <td>18419134</td>\n",
       "      <td>18419</td>\n",
       "      <td>134</td>\n",
       "      <td>9.375</td>\n",
       "    </tr>\n",
       "  </tbody>\n",
       "</table>\n",
       "</div>"
      ],
      "text/plain": [
       "         id  user_id  joke_id  Rating\n",
       "0  31030110    31030      110   2.750\n",
       "1  16144109    16144      109   5.094\n",
       "2    230986    23098        6  -6.438\n",
       "3   1427386    14273       86   4.406\n",
       "4  18419134    18419      134   9.375"
      ]
     },
     "execution_count": 8,
     "metadata": {},
     "output_type": "execute_result"
    }
   ],
   "source": [
    "train.head()"
   ]
  },
  {
   "cell_type": "markdown",
   "metadata": {},
   "source": [
    "### Split"
   ]
  },
  {
   "cell_type": "code",
   "execution_count": 9,
   "metadata": {},
   "outputs": [],
   "source": [
    "X = train.drop([\"Rating\"], axis=1)\n",
    "y = train.Rating\n",
    "\n",
    "X_train, X_test, y_train, y_test = train_test_split(X, y, test_size=0.3, shuffle=True, random_state=2)"
   ]
  },
  {
   "cell_type": "markdown",
   "metadata": {},
   "source": [
    "### Scaling"
   ]
  },
  {
   "cell_type": "code",
   "execution_count": 10,
   "metadata": {},
   "outputs": [],
   "source": [
    "scaling = MinMaxScaler()\n",
    "X_train = scaling.fit_transform(X_train)\n",
    "X_test = scaling.transform(X_test)\n",
    "\n",
    "test = scaling.transform(test)"
   ]
  },
  {
   "cell_type": "code",
   "execution_count": null,
   "metadata": {},
   "outputs": [],
   "source": [
    "#scaling = MinMaxScaler()\n",
    "#for col in X_train.columns:\n",
    "#    X_train[col] = scaling.fit_transform(X_train[[col]])\n",
    "#    X_test[col] = scaling.transform(X_test[[col]])\n",
    "#\n",
    "#for col in test.columns:\n",
    "#    test[col] = scaling.transform(test[[col]])"
   ]
  },
  {
   "cell_type": "code",
   "execution_count": 11,
   "metadata": {},
   "outputs": [],
   "source": [
    "y_train = y_train.values.reshape(-1, 1)\n",
    "y_test = y_test.values.reshape(-1, 1)"
   ]
  },
  {
   "cell_type": "code",
   "execution_count": 12,
   "metadata": {},
   "outputs": [],
   "source": [
    "y_train = scaling.fit_transform(y_train)[:, 0]\n",
    "y_test = scaling.fit_transform(y_test)[:, 0]"
   ]
  },
  {
   "cell_type": "markdown",
   "metadata": {},
   "source": [
    "## Models"
   ]
  },
  {
   "cell_type": "markdown",
   "metadata": {},
   "source": [
    "### Linear Regression"
   ]
  },
  {
   "cell_type": "code",
   "execution_count": 13,
   "metadata": {},
   "outputs": [
    {
     "data": {
      "text/plain": [
       "LinearRegression()"
      ]
     },
     "execution_count": 13,
     "metadata": {},
     "output_type": "execute_result"
    }
   ],
   "source": [
    "model = LinearRegression(fit_intercept=True)\n",
    "model.fit(X_train, y_train)"
   ]
  },
  {
   "cell_type": "code",
   "execution_count": 14,
   "metadata": {},
   "outputs": [
    {
     "name": "stdout",
     "output_type": "stream",
     "text": [
      "0.5016816676150437\n",
      "[-0.07413231  0.04148836  0.1701418 ]\n",
      "50841.68775004334\n"
     ]
    }
   ],
   "source": [
    "# Interceptação, inclinação e residuais\n",
    "print(model.intercept_)\n",
    "print(model.coef_)\n",
    "print(model._residues)"
   ]
  },
  {
   "cell_type": "code",
   "execution_count": 15,
   "metadata": {},
   "outputs": [
    {
     "data": {
      "text/plain": [
       "array([0.56178664, 0.60708187, 0.51050616, ..., 0.63173133, 0.63676746,\n",
       "       0.54009885])"
      ]
     },
     "execution_count": 15,
     "metadata": {},
     "output_type": "execute_result"
    }
   ],
   "source": [
    "y_pred1 = model.predict(X_test)\n",
    "y_pred1"
   ]
  },
  {
   "cell_type": "code",
   "execution_count": 16,
   "metadata": {},
   "outputs": [
    {
     "data": {
      "text/plain": [
       "0.2575344634379528"
      ]
     },
     "execution_count": 16,
     "metadata": {},
     "output_type": "execute_result"
    }
   ],
   "source": [
    "mean_squared_error(y_test, y_pred1, squared=False)"
   ]
  },
  {
   "cell_type": "code",
   "execution_count": null,
   "metadata": {},
   "outputs": [],
   "source": [
    "mean_squared_error(scaling.inverse_transform(y_test), scaling.inverse_transform(y_pred1), squared=False)"
   ]
  },
  {
   "cell_type": "markdown",
   "metadata": {},
   "source": [
    "### XGBoost"
   ]
  },
  {
   "cell_type": "code",
   "execution_count": 24,
   "metadata": {},
   "outputs": [],
   "source": [
    "def bay_opt(params):\n",
    "    n_estimators=params[0]\n",
    "    learning_rate=params[1]\n",
    "    max_depth=params[2]\n",
    "    min_child_weight=params[3]\n",
    "    subsample=params[4]\n",
    "    colsample_bynode=params[5]\n",
    "\n",
    "    model = XGBRegressor(n_estimators=n_estimators, learning_rate=learning_rate, max_depth=max_depth, \n",
    "                    min_child_weight=min_child_weight, subsample=subsample, colsample_bynode=colsample_bynode, random_state=1)\n",
    "\n",
    "    model.fit(X_train, y_train, eval_set=[(X_test, y_test)], verbose=False)\n",
    "    y_pred = model.predict(X_test)\n",
    "    result = mean_squared_error(y_test, y_pred, squared=False)\n",
    "\n",
    "    return result"
   ]
  },
  {
   "cell_type": "code",
   "execution_count": null,
   "metadata": {},
   "outputs": [],
   "source": [
    "pbounds = [\n",
    "    (500, 3500), # n_estimators\n",
    "    (1.00e-04, 5.00e-01, 'log-uniform'), # learning_rate\n",
    "    (2, 16), # max_depth\n",
    "    (1, 6), # min_child_weight\n",
    "    (0.01, 0.9), # subsample\n",
    "    (0.01, 0.9) # colsample_bynode\n",
    "]"
   ]
  },
  {
   "cell_type": "code",
   "execution_count": 26,
   "metadata": {},
   "outputs": [
    {
     "name": "stdout",
     "output_type": "stream",
     "text": [
      "Iteration No: 1 started. Evaluating function at random point.\n",
      "Iteration No: 1 ended. Evaluation done at random point.\n",
      "Time taken: 235.2951\n",
      "Function value obtained: 5.1652\n",
      "Current minimum: 5.1652\n",
      "Iteration No: 2 started. Evaluating function at random point.\n",
      "Iteration No: 2 ended. Evaluation done at random point.\n",
      "Time taken: 728.1314\n",
      "Function value obtained: 4.8617\n",
      "Current minimum: 4.8617\n",
      "Iteration No: 3 started. Searching for the next optimal point.\n",
      "Iteration No: 3 ended. Search finished for the next optimal point.\n",
      "Time taken: 596.5683\n",
      "Function value obtained: 4.7362\n",
      "Current minimum: 4.7362\n",
      "Iteration No: 4 started. Searching for the next optimal point.\n",
      "Iteration No: 4 ended. Search finished for the next optimal point.\n",
      "Time taken: 323.5546\n",
      "Function value obtained: 5.0318\n",
      "Current minimum: 4.7362\n",
      "Iteration No: 5 started. Searching for the next optimal point.\n",
      "Iteration No: 5 ended. Search finished for the next optimal point.\n",
      "Time taken: 611.1759\n",
      "Function value obtained: 4.7867\n",
      "Current minimum: 4.7362\n",
      "Iteration No: 6 started. Searching for the next optimal point.\n",
      "Iteration No: 6 ended. Search finished for the next optimal point.\n",
      "Time taken: 231.6528\n",
      "Function value obtained: 4.9629\n",
      "Current minimum: 4.7362\n",
      "Iteration No: 7 started. Searching for the next optimal point.\n",
      "Iteration No: 7 ended. Search finished for the next optimal point.\n",
      "Time taken: 448.7543\n",
      "Function value obtained: 4.8144\n",
      "Current minimum: 4.7362\n",
      "Iteration No: 8 started. Searching for the next optimal point.\n",
      "Iteration No: 8 ended. Search finished for the next optimal point.\n",
      "Time taken: 503.2545\n",
      "Function value obtained: 5.0594\n",
      "Current minimum: 4.7362\n"
     ]
    }
   ],
   "source": [
    "res = gp_minimize(bay_opt, pbounds, verbose=1, n_calls=8, n_random_starts=2)"
   ]
  },
  {
   "cell_type": "code",
   "execution_count": null,
   "metadata": {},
   "outputs": [],
   "source": [
    "plot_convergence(res)"
   ]
  },
  {
   "cell_type": "code",
   "execution_count": 34,
   "metadata": {},
   "outputs": [
    {
     "data": {
      "text/plain": [
       "XGBRegressor(base_score=0.5, booster='gbtree', callbacks=None,\n",
       "             colsample_bylevel=1, colsample_bynode=1, colsample_bytree=1,\n",
       "             early_stopping_rounds=None, enable_categorical=False,\n",
       "             eval_metric=None, gamma=0, gpu_id=-1, grow_policy='depthwise',\n",
       "             importance_type=None, interaction_constraints='',\n",
       "             learning_rate=0.3, max_bin=256, max_cat_to_onehot=4,\n",
       "             max_delta_step=0, max_depth=8, max_leaves=0, min_child_weight=5,\n",
       "             missing=nan, monotone_constraints='()', n_estimators=2200,\n",
       "             n_jobs=0, num_parallel_tree=1, predictor='auto', random_state=0,\n",
       "             reg_alpha=0, reg_lambda=1, ...)"
      ]
     },
     "execution_count": 34,
     "metadata": {},
     "output_type": "execute_result"
    }
   ],
   "source": [
    "#\n",
    "model2 = XGBRegressor(\n",
    "    random_state=0,\n",
    "    n_estimators=2200,\n",
    "    learning_rate=0.3,\n",
    "    max_depth=8,\n",
    "    min_child_weight=3,\n",
    "    #subsample=,\n",
    "    #num_parallel_tree=\n",
    ")\n",
    "\n",
    "#\n",
    "model2.fit(X_train, y_train, eval_set=[(X_test, y_test)], verbose=False)"
   ]
  },
  {
   "cell_type": "code",
   "execution_count": 35,
   "metadata": {},
   "outputs": [
    {
     "data": {
      "text/plain": [
       "4.465095631622332"
      ]
     },
     "execution_count": 35,
     "metadata": {},
     "output_type": "execute_result"
    }
   ],
   "source": [
    "y_pred2 = model2.predict(X_test)\n",
    "mean_squared_error(y_test, y_pred2, squared=False)"
   ]
  },
  {
   "cell_type": "markdown",
   "metadata": {},
   "source": [
    "4.8731787087578375\n",
    "4.829584306803429\n",
    "4.754165643844885\n",
    "4.710329662520155\n",
    "4.679860073940723\n",
    "4.616868239833476\n",
    "4.577720177672937\n",
    "4.554786158095966\n",
    "4.53884936597744\n",
    "4.521754976656402 - 1400\n",
    "4.504470750294035 - 1800\n",
    "4.492497361633984 - 2200\n",
    "4.480416479316659 -\n",
    "4.468527574175462 - 2\n",
    "4.4628466701085685 - 3"
   ]
  },
  {
   "cell_type": "markdown",
   "metadata": {},
   "source": [
    "## Submission"
   ]
  },
  {
   "cell_type": "code",
   "execution_count": 33,
   "metadata": {},
   "outputs": [
    {
     "data": {
      "text/html": [
       "<div>\n",
       "<style scoped>\n",
       "    .dataframe tbody tr th:only-of-type {\n",
       "        vertical-align: middle;\n",
       "    }\n",
       "\n",
       "    .dataframe tbody tr th {\n",
       "        vertical-align: top;\n",
       "    }\n",
       "\n",
       "    .dataframe thead th {\n",
       "        text-align: right;\n",
       "    }\n",
       "</style>\n",
       "<table border=\"1\" class=\"dataframe\">\n",
       "  <thead>\n",
       "    <tr style=\"text-align: right;\">\n",
       "      <th></th>\n",
       "      <th>id</th>\n",
       "      <th>Rating</th>\n",
       "    </tr>\n",
       "  </thead>\n",
       "  <tbody>\n",
       "    <tr>\n",
       "      <th>0</th>\n",
       "      <td>6194_11</td>\n",
       "      <td>3.710104</td>\n",
       "    </tr>\n",
       "    <tr>\n",
       "      <th>1</th>\n",
       "      <td>19356_3</td>\n",
       "      <td>0.379057</td>\n",
       "    </tr>\n",
       "    <tr>\n",
       "      <th>2</th>\n",
       "      <td>23426_79</td>\n",
       "      <td>0.550185</td>\n",
       "    </tr>\n",
       "    <tr>\n",
       "      <th>3</th>\n",
       "      <td>40030_3</td>\n",
       "      <td>3.956149</td>\n",
       "    </tr>\n",
       "    <tr>\n",
       "      <th>4</th>\n",
       "      <td>19806_115</td>\n",
       "      <td>4.530601</td>\n",
       "    </tr>\n",
       "  </tbody>\n",
       "</table>\n",
       "</div>"
      ],
      "text/plain": [
       "          id    Rating\n",
       "0    6194_11  3.710104\n",
       "1    19356_3  0.379057\n",
       "2   23426_79  0.550185\n",
       "3    40030_3  3.956149\n",
       "4  19806_115  4.530601"
      ]
     },
     "execution_count": 33,
     "metadata": {},
     "output_type": "execute_result"
    }
   ],
   "source": [
    "submit_id = pd.read_csv(\"dados/test.csv\")[\"id\"]\n",
    "submit = pd.DataFrame({\"id\": submit_id, \"Rating\": abs(model2.predict(test))}, columns=[\"id\", \"Rating\"])\n",
    "submit.to_csv(\"submission.csv\", index=False)\n",
    "submit.head()"
   ]
  }
 ],
 "metadata": {
  "kernelspec": {
   "display_name": ".venv",
   "language": "python",
   "name": "python3"
  },
  "language_info": {
   "codemirror_mode": {
    "name": "ipython",
    "version": 3
   },
   "file_extension": ".py",
   "mimetype": "text/x-python",
   "name": "python",
   "nbconvert_exporter": "python",
   "pygments_lexer": "ipython3",
   "version": "3.9.6"
  },
  "orig_nbformat": 4,
  "vscode": {
   "interpreter": {
    "hash": "b9588bbc91824c160606fd1c3f5b7ee937d4a46fa822f5ec85ef0fea8402f391"
   }
  }
 },
 "nbformat": 4,
 "nbformat_minor": 2
}
